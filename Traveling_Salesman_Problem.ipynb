{
  "nbformat": 4,
  "nbformat_minor": 0,
  "metadata": {
    "colab": {
      "provenance": [],
      "toc_visible": true,
      "authorship_tag": "ABX9TyOTUA3oPRGKBhmIWtldCLQv",
      "include_colab_link": true
    },
    "kernelspec": {
      "name": "python3",
      "display_name": "Python 3"
    },
    "language_info": {
      "name": "python"
    }
  },
  "cells": [
    {
      "cell_type": "markdown",
      "metadata": {
        "id": "view-in-github",
        "colab_type": "text"
      },
      "source": [
        "<a href=\"https://colab.research.google.com/github/caleb-vicente/RL_tutorials/blob/dev/Traveling_Salesman_Problem.ipynb\" target=\"_parent\"><img src=\"https://colab.research.google.com/assets/colab-badge.svg\" alt=\"Open In Colab\"/></a>"
      ]
    },
    {
      "cell_type": "markdown",
      "source": [
        "\n",
        "\n",
        "*   We are following the tutorial of page: https://ekimetrics.github.io/blog/2021/11/03/tsp/\n",
        "*   How to create a new gym environment: https://towardsdatascience.com/beginners-guide-to-custom-environments-in-openai-s-gym-989371673952\n",
        "*   Whole solution to the problem can be found here: https://github.com/TheoLvs/reinforcement-learning/blob/master/5.%20Delivery%20Optimization/Optimizing%20delivery%20with%20Reinforcement%20Learning.ipynb\n",
        "*   En OR-gym tenemos un entorno ya generado para TSP: https://github.com/hubbs5/or-gym"
      ],
      "metadata": {
        "id": "ua7oBrg0F1id"
      }
    },
    {
      "cell_type": "code",
      "source": [
        "!pip install gymnasium==0.26.1\n",
        "!pip install \"ray[rllib]\" torch\n",
        "!pip install moviepy==1.0.3\n",
        "!pip install pygame"
      ],
      "metadata": {
        "id": "QdC1JiCVsUW3",
        "colab": {
          "base_uri": "https://localhost:8080/"
        },
        "outputId": "7d592d22-6efb-4bb5-ed1a-ee1da5953ea6"
      },
      "execution_count": null,
      "outputs": [
        {
          "output_type": "stream",
          "name": "stdout",
          "text": [
            "Looking in indexes: https://pypi.org/simple, https://us-python.pkg.dev/colab-wheels/public/simple/\n",
            "Collecting gymnasium==0.26.1\n",
            "  Downloading gymnasium-0.26.1-py3-none-any.whl (830 kB)\n",
            "\u001b[2K     \u001b[90m━━━━━━━━━━━━━━━━━━━━━━━━━━━━━━━━━━━━━━\u001b[0m \u001b[32m830.4/830.4 kB\u001b[0m \u001b[31m19.3 MB/s\u001b[0m eta \u001b[36m0:00:00\u001b[0m\n",
            "\u001b[?25hCollecting gymnasium-notices>=0.0.1\n",
            "  Downloading gymnasium_notices-0.0.1-py3-none-any.whl (2.8 kB)\n",
            "Requirement already satisfied: numpy>=1.18.0 in /usr/local/lib/python3.10/dist-packages (from gymnasium==0.26.1) (1.22.4)\n",
            "Requirement already satisfied: cloudpickle>=1.2.0 in /usr/local/lib/python3.10/dist-packages (from gymnasium==0.26.1) (2.2.1)\n",
            "Installing collected packages: gymnasium-notices, gymnasium\n",
            "Successfully installed gymnasium-0.26.1 gymnasium-notices-0.0.1\n",
            "Looking in indexes: https://pypi.org/simple, https://us-python.pkg.dev/colab-wheels/public/simple/\n",
            "Collecting ray[rllib]\n",
            "  Downloading ray-2.4.0-cp310-cp310-manylinux2014_x86_64.whl (58.6 MB)\n",
            "\u001b[2K     \u001b[90m━━━━━━━━━━━━━━━━━━━━━━━━━━━━━━━━━━━━━━━━\u001b[0m \u001b[32m58.6/58.6 MB\u001b[0m \u001b[31m17.8 MB/s\u001b[0m eta \u001b[36m0:00:00\u001b[0m\n",
            "\u001b[?25hRequirement already satisfied: torch in /usr/local/lib/python3.10/dist-packages (2.0.0+cu118)\n",
            "Requirement already satisfied: filelock in /usr/local/lib/python3.10/dist-packages (from ray[rllib]) (3.12.0)\n",
            "Collecting frozenlist\n",
            "  Downloading frozenlist-1.3.3-cp310-cp310-manylinux_2_5_x86_64.manylinux1_x86_64.manylinux_2_17_x86_64.manylinux2014_x86_64.whl (149 kB)\n",
            "\u001b[2K     \u001b[90m━━━━━━━━━━━━━━━━━━━━━━━━━━━━━━━━━━━━━━\u001b[0m \u001b[32m149.6/149.6 kB\u001b[0m \u001b[31m15.3 MB/s\u001b[0m eta \u001b[36m0:00:00\u001b[0m\n",
            "\u001b[?25hRequirement already satisfied: msgpack<2.0.0,>=1.0.0 in /usr/local/lib/python3.10/dist-packages (from ray[rllib]) (1.0.5)\n",
            "Requirement already satisfied: numpy>=1.19.3 in /usr/local/lib/python3.10/dist-packages (from ray[rllib]) (1.22.4)\n",
            "Collecting aiosignal\n",
            "  Downloading aiosignal-1.3.1-py3-none-any.whl (7.6 kB)\n",
            "Requirement already satisfied: pyyaml in /usr/local/lib/python3.10/dist-packages (from ray[rllib]) (6.0)\n",
            "Collecting grpcio<=1.51.3,>=1.42.0\n",
            "  Downloading grpcio-1.51.3-cp310-cp310-manylinux_2_17_x86_64.manylinux2014_x86_64.whl (4.8 MB)\n",
            "\u001b[2K     \u001b[90m━━━━━━━━━━━━━━━━━━━━━━━━━━━━━━━━━━━━━━━━\u001b[0m \u001b[32m4.8/4.8 MB\u001b[0m \u001b[31m62.7 MB/s\u001b[0m eta \u001b[36m0:00:00\u001b[0m\n",
            "\u001b[?25hRequirement already satisfied: packaging in /usr/local/lib/python3.10/dist-packages (from ray[rllib]) (23.1)\n",
            "Requirement already satisfied: jsonschema in /usr/local/lib/python3.10/dist-packages (from ray[rllib]) (4.3.3)\n",
            "Requirement already satisfied: protobuf!=3.19.5,>=3.15.3 in /usr/local/lib/python3.10/dist-packages (from ray[rllib]) (3.20.3)\n",
            "Requirement already satisfied: requests in /usr/local/lib/python3.10/dist-packages (from ray[rllib]) (2.27.1)\n",
            "Requirement already satisfied: attrs in /usr/local/lib/python3.10/dist-packages (from ray[rllib]) (23.1.0)\n",
            "Collecting virtualenv<20.21.1,>=20.0.24\n",
            "  Downloading virtualenv-20.21.0-py3-none-any.whl (8.7 MB)\n",
            "\u001b[2K     \u001b[90m━━━━━━━━━━━━━━━━━━━━━━━━━━━━━━━━━━━━━━━━\u001b[0m \u001b[32m8.7/8.7 MB\u001b[0m \u001b[31m65.9 MB/s\u001b[0m eta \u001b[36m0:00:00\u001b[0m\n",
            "\u001b[?25hRequirement already satisfied: click>=7.0 in /usr/local/lib/python3.10/dist-packages (from ray[rllib]) (8.1.3)\n",
            "Requirement already satisfied: typer in /usr/local/lib/python3.10/dist-packages (from ray[rllib]) (0.7.0)\n",
            "Requirement already satisfied: dm-tree in /usr/local/lib/python3.10/dist-packages (from ray[rllib]) (0.1.8)\n",
            "Collecting gymnasium==0.26.3\n",
            "  Downloading Gymnasium-0.26.3-py3-none-any.whl (836 kB)\n",
            "\u001b[2K     \u001b[90m━━━━━━━━━━━━━━━━━━━━━━━━━━━━━━━━━━━━━━\u001b[0m \u001b[32m836.9/836.9 kB\u001b[0m \u001b[31m54.6 MB/s\u001b[0m eta \u001b[36m0:00:00\u001b[0m\n",
            "\u001b[?25hRequirement already satisfied: rich in /usr/local/lib/python3.10/dist-packages (from ray[rllib]) (13.3.4)\n",
            "Requirement already satisfied: tabulate in /usr/local/lib/python3.10/dist-packages (from ray[rllib]) (0.8.10)\n",
            "Requirement already satisfied: pandas in /usr/local/lib/python3.10/dist-packages (from ray[rllib]) (1.5.3)\n",
            "Collecting tensorboardX>=1.9\n",
            "  Downloading tensorboardX-2.6-py2.py3-none-any.whl (114 kB)\n",
            "\u001b[2K     \u001b[90m━━━━━━━━━━━━━━━━━━━━━━━━━━━━━━━━━━━━━━\u001b[0m \u001b[32m114.5/114.5 kB\u001b[0m \u001b[31m14.8 MB/s\u001b[0m eta \u001b[36m0:00:00\u001b[0m\n",
            "\u001b[?25hRequirement already satisfied: scikit-image in /usr/local/lib/python3.10/dist-packages (from ray[rllib]) (0.19.3)\n",
            "Requirement already satisfied: scipy in /usr/local/lib/python3.10/dist-packages (from ray[rllib]) (1.10.1)\n",
            "Collecting lz4\n",
            "  Downloading lz4-4.3.2-cp310-cp310-manylinux_2_17_x86_64.manylinux2014_x86_64.whl (1.3 MB)\n",
            "\u001b[2K     \u001b[90m━━━━━━━━━━━━━━━━━━━━━━━━━━━━━━━━━━━━━━━━\u001b[0m \u001b[32m1.3/1.3 MB\u001b[0m \u001b[31m71.3 MB/s\u001b[0m eta \u001b[36m0:00:00\u001b[0m\n",
            "\u001b[?25hRequirement already satisfied: gymnasium-notices>=0.0.1 in /usr/local/lib/python3.10/dist-packages (from gymnasium==0.26.3->ray[rllib]) (0.0.1)\n",
            "Requirement already satisfied: cloudpickle>=1.2.0 in /usr/local/lib/python3.10/dist-packages (from gymnasium==0.26.3->ray[rllib]) (2.2.1)\n",
            "Requirement already satisfied: networkx in /usr/local/lib/python3.10/dist-packages (from torch) (3.1)\n",
            "Requirement already satisfied: jinja2 in /usr/local/lib/python3.10/dist-packages (from torch) (3.1.2)\n",
            "Requirement already satisfied: typing-extensions in /usr/local/lib/python3.10/dist-packages (from torch) (4.5.0)\n",
            "Requirement already satisfied: sympy in /usr/local/lib/python3.10/dist-packages (from torch) (1.11.1)\n",
            "Requirement already satisfied: triton==2.0.0 in /usr/local/lib/python3.10/dist-packages (from torch) (2.0.0)\n",
            "Requirement already satisfied: lit in /usr/local/lib/python3.10/dist-packages (from triton==2.0.0->torch) (16.0.2)\n",
            "Requirement already satisfied: cmake in /usr/local/lib/python3.10/dist-packages (from triton==2.0.0->torch) (3.25.2)\n",
            "Collecting distlib<1,>=0.3.6\n",
            "  Downloading distlib-0.3.6-py2.py3-none-any.whl (468 kB)\n",
            "\u001b[2K     \u001b[90m━━━━━━━━━━━━━━━━━━━━━━━━━━━━━━━━━━━━━━\u001b[0m \u001b[32m468.5/468.5 kB\u001b[0m \u001b[31m45.4 MB/s\u001b[0m eta \u001b[36m0:00:00\u001b[0m\n",
            "\u001b[?25hRequirement already satisfied: platformdirs<4,>=2.4 in /usr/local/lib/python3.10/dist-packages (from virtualenv<20.21.1,>=20.0.24->ray[rllib]) (3.3.0)\n",
            "Requirement already satisfied: MarkupSafe>=2.0 in /usr/local/lib/python3.10/dist-packages (from jinja2->torch) (2.1.2)\n",
            "Requirement already satisfied: pyrsistent!=0.17.0,!=0.17.1,!=0.17.2,>=0.14.0 in /usr/local/lib/python3.10/dist-packages (from jsonschema->ray[rllib]) (0.19.3)\n",
            "Requirement already satisfied: pytz>=2020.1 in /usr/local/lib/python3.10/dist-packages (from pandas->ray[rllib]) (2022.7.1)\n",
            "Requirement already satisfied: python-dateutil>=2.8.1 in /usr/local/lib/python3.10/dist-packages (from pandas->ray[rllib]) (2.8.2)\n",
            "Requirement already satisfied: idna<4,>=2.5 in /usr/local/lib/python3.10/dist-packages (from requests->ray[rllib]) (3.4)\n",
            "Requirement already satisfied: charset-normalizer~=2.0.0 in /usr/local/lib/python3.10/dist-packages (from requests->ray[rllib]) (2.0.12)\n",
            "Requirement already satisfied: certifi>=2017.4.17 in /usr/local/lib/python3.10/dist-packages (from requests->ray[rllib]) (2022.12.7)\n",
            "Requirement already satisfied: urllib3<1.27,>=1.21.1 in /usr/local/lib/python3.10/dist-packages (from requests->ray[rllib]) (1.26.15)\n",
            "Requirement already satisfied: markdown-it-py<3.0.0,>=2.2.0 in /usr/local/lib/python3.10/dist-packages (from rich->ray[rllib]) (2.2.0)\n",
            "Requirement already satisfied: pygments<3.0.0,>=2.13.0 in /usr/local/lib/python3.10/dist-packages (from rich->ray[rllib]) (2.14.0)\n",
            "Requirement already satisfied: tifffile>=2019.7.26 in /usr/local/lib/python3.10/dist-packages (from scikit-image->ray[rllib]) (2023.4.12)\n",
            "Requirement already satisfied: pillow!=7.1.0,!=7.1.1,!=8.3.0,>=6.1.0 in /usr/local/lib/python3.10/dist-packages (from scikit-image->ray[rllib]) (8.4.0)\n",
            "Requirement already satisfied: imageio>=2.4.1 in /usr/local/lib/python3.10/dist-packages (from scikit-image->ray[rllib]) (2.25.1)\n",
            "Requirement already satisfied: PyWavelets>=1.1.1 in /usr/local/lib/python3.10/dist-packages (from scikit-image->ray[rllib]) (1.4.1)\n",
            "Requirement already satisfied: mpmath>=0.19 in /usr/local/lib/python3.10/dist-packages (from sympy->torch) (1.3.0)\n",
            "Requirement already satisfied: mdurl~=0.1 in /usr/local/lib/python3.10/dist-packages (from markdown-it-py<3.0.0,>=2.2.0->rich->ray[rllib]) (0.1.2)\n",
            "Requirement already satisfied: six>=1.5 in /usr/local/lib/python3.10/dist-packages (from python-dateutil>=2.8.1->pandas->ray[rllib]) (1.16.0)\n",
            "Installing collected packages: distlib, virtualenv, tensorboardX, lz4, gymnasium, grpcio, frozenlist, aiosignal, ray\n",
            "  Attempting uninstall: gymnasium\n",
            "    Found existing installation: gymnasium 0.26.1\n",
            "    Uninstalling gymnasium-0.26.1:\n",
            "      Successfully uninstalled gymnasium-0.26.1\n",
            "  Attempting uninstall: grpcio\n",
            "    Found existing installation: grpcio 1.54.0\n",
            "    Uninstalling grpcio-1.54.0:\n",
            "      Successfully uninstalled grpcio-1.54.0\n",
            "Successfully installed aiosignal-1.3.1 distlib-0.3.6 frozenlist-1.3.3 grpcio-1.51.3 gymnasium-0.26.3 lz4-4.3.2 ray-2.4.0 tensorboardX-2.6 virtualenv-20.21.0\n",
            "Looking in indexes: https://pypi.org/simple, https://us-python.pkg.dev/colab-wheels/public/simple/\n",
            "Requirement already satisfied: moviepy==1.0.3 in /usr/local/lib/python3.10/dist-packages (1.0.3)\n",
            "Requirement already satisfied: requests<3.0,>=2.8.1 in /usr/local/lib/python3.10/dist-packages (from moviepy==1.0.3) (2.27.1)\n",
            "Requirement already satisfied: imageio-ffmpeg>=0.2.0 in /usr/local/lib/python3.10/dist-packages (from moviepy==1.0.3) (0.4.8)\n",
            "Requirement already satisfied: proglog<=1.0.0 in /usr/local/lib/python3.10/dist-packages (from moviepy==1.0.3) (0.1.10)\n",
            "Requirement already satisfied: decorator<5.0,>=4.0.2 in /usr/local/lib/python3.10/dist-packages (from moviepy==1.0.3) (4.4.2)\n",
            "Requirement already satisfied: numpy in /usr/local/lib/python3.10/dist-packages (from moviepy==1.0.3) (1.22.4)\n",
            "Requirement already satisfied: tqdm<5.0,>=4.11.2 in /usr/local/lib/python3.10/dist-packages (from moviepy==1.0.3) (4.65.0)\n",
            "Requirement already satisfied: imageio<3.0,>=2.5 in /usr/local/lib/python3.10/dist-packages (from moviepy==1.0.3) (2.25.1)\n",
            "Requirement already satisfied: pillow>=8.3.2 in /usr/local/lib/python3.10/dist-packages (from imageio<3.0,>=2.5->moviepy==1.0.3) (8.4.0)\n",
            "Requirement already satisfied: urllib3<1.27,>=1.21.1 in /usr/local/lib/python3.10/dist-packages (from requests<3.0,>=2.8.1->moviepy==1.0.3) (1.26.15)\n",
            "Requirement already satisfied: idna<4,>=2.5 in /usr/local/lib/python3.10/dist-packages (from requests<3.0,>=2.8.1->moviepy==1.0.3) (3.4)\n",
            "Requirement already satisfied: certifi>=2017.4.17 in /usr/local/lib/python3.10/dist-packages (from requests<3.0,>=2.8.1->moviepy==1.0.3) (2022.12.7)\n",
            "Requirement already satisfied: charset-normalizer~=2.0.0 in /usr/local/lib/python3.10/dist-packages (from requests<3.0,>=2.8.1->moviepy==1.0.3) (2.0.12)\n",
            "Looking in indexes: https://pypi.org/simple, https://us-python.pkg.dev/colab-wheels/public/simple/\n",
            "Requirement already satisfied: pygame in /usr/local/lib/python3.10/dist-packages (2.3.0)\n"
          ]
        }
      ]
    },
    {
      "cell_type": "code",
      "source": [
        "# import os\n",
        "\n",
        "# def remove_files_and_dirs(directory):\n",
        "#     for root, dirs, files in os.walk(directory, topdown=False):\n",
        "#         for file in files:\n",
        "#             os.remove(os.path.join(root, file))\n",
        "#         for dir in dirs:\n",
        "#             os.rmdir(os.path.join(root, dir))\n",
        "#     os.rmdir(directory)\n",
        "\n",
        "# remove_files_and_dirs('/content/results/DQN')"
      ],
      "metadata": {
        "id": "m4rkueIKuw3v"
      },
      "execution_count": null,
      "outputs": []
    },
    {
      "cell_type": "markdown",
      "source": [
        "## Create Simple Environment"
      ],
      "metadata": {
        "id": "zAM90J-JFYRp"
      }
    },
    {
      "cell_type": "code",
      "execution_count": null,
      "metadata": {
        "id": "0S7G3v1FFS-r",
        "colab": {
          "base_uri": "https://localhost:8080/"
        },
        "outputId": "73d047b7-5a4d-4fa7-87b2-399dcc138be2"
      },
      "outputs": [
        {
          "output_type": "stream",
          "name": "stderr",
          "text": [
            "<ipython-input-2-75c4af12c79a>:17: MatplotlibDeprecationWarning: The seaborn styles shipped by Matplotlib are deprecated since 3.6, as they no longer correspond to the styles shipped by seaborn. However, they will remain available as 'seaborn-v0_8-<style>'. Alternatively, directly use the seaborn API instead.\n",
            "  plt.style.use(\"seaborn-dark\")\n"
          ]
        }
      ],
      "source": [
        "# ===============================================================================================================================================\n",
        "# This enviroment has been obtained from: https://github.com/TheoLvs/reinforcement-learning/blob/master/5.%20Delivery%20Optimization/delivery.py\n",
        "# ===============================================================================================================================================\n",
        "\n",
        "# Base Data Science snippet\n",
        "import pandas as pd\n",
        "import numpy as np\n",
        "import matplotlib.pyplot as plt\n",
        "import os\n",
        "import time\n",
        "from tqdm import tqdm_notebook\n",
        "from scipy.spatial.distance import cdist\n",
        "import imageio\n",
        "from matplotlib.patches import Rectangle\n",
        "from matplotlib.collections import PatchCollection\n",
        "\n",
        "plt.style.use(\"seaborn-dark\")\n",
        "\n",
        "class DeliveryEnvironment(object):\n",
        "    def __init__(self,n_stops = 10,max_box = 10,method = \"distance\",**kwargs):\n",
        "\n",
        "        # Initialization\n",
        "        self.n_stops = n_stops\n",
        "        self.action_space = self.n_stops\n",
        "        self.observation_space = self.n_stops\n",
        "        self.max_box = max_box\n",
        "        self.stops = []\n",
        "        self.method = method\n",
        "        self.first_stop = None\n",
        "\n",
        "        # Generate stops\n",
        "        self._generate_constraints(**kwargs)\n",
        "        self._generate_stops()\n",
        "        self._generate_q_values()\n",
        "        #self.render()\n",
        "\n",
        "        # Initialize first point\n",
        "        self.reset()\n",
        "\n",
        "\n",
        "    def _generate_constraints(self,box_size = 0.2,traffic_intensity = 5):\n",
        "\n",
        "        if self.method == \"traffic_box\":\n",
        "\n",
        "            x_left = np.random.rand() * (self.max_box) * (1-box_size)\n",
        "            y_bottom = np.random.rand() * (self.max_box) * (1-box_size)\n",
        "\n",
        "            x_right = x_left + np.random.rand() * box_size * self.max_box\n",
        "            y_top = y_bottom + np.random.rand() * box_size * self.max_box\n",
        "\n",
        "            self.box = (x_left,x_right,y_bottom,y_top)\n",
        "            self.traffic_intensity = traffic_intensity \n",
        "\n",
        "\n",
        "\n",
        "    def _generate_stops(self):\n",
        "\n",
        "        if self.method == \"traffic_box\":\n",
        "\n",
        "            points = []\n",
        "            while len(points) < self.n_stops:\n",
        "                x,y = np.random.rand(2)*self.max_box\n",
        "                if not self._is_in_box(x,y,self.box):\n",
        "                    points.append((x,y))\n",
        "\n",
        "            xy = np.array(points)\n",
        "\n",
        "        else:\n",
        "            # Generate geographical coordinates\n",
        "            xy = np.random.rand(self.n_stops,2)*self.max_box\n",
        "\n",
        "        self.x = xy[:,0]\n",
        "        self.y = xy[:,1]\n",
        "\n",
        "\n",
        "    def _generate_q_values(self,box_size = 0.2):\n",
        "\n",
        "        # Generate actual Q Values corresponding to time elapsed between two points\n",
        "        if self.method in [\"distance\",\"traffic_box\"]:\n",
        "            xy = np.column_stack([self.x,self.y])\n",
        "            self.q_stops = cdist(xy,xy)\n",
        "        elif self.method==\"time\":\n",
        "            self.q_stops = np.random.rand(self.n_stops,self.n_stops)*self.max_box\n",
        "            np.fill_diagonal(self.q_stops,0)\n",
        "        else:\n",
        "            raise Exception(\"Method not recognized\")\n",
        "    \n",
        "\n",
        "    def render(self,return_img = False):\n",
        "        \n",
        "        fig = plt.figure(figsize=(7,7))\n",
        "        ax = fig.add_subplot(111)\n",
        "        ax.set_title(\"Delivery Stops\")\n",
        "\n",
        "        # Show stops\n",
        "        ax.scatter(self.x,self.y,c = \"red\",s = 50)\n",
        "\n",
        "        # Show START\n",
        "        if len(self.stops)>0:\n",
        "            xy = self._get_xy(initial = True)\n",
        "            xytext = xy[0]+0.1,xy[1]-0.05\n",
        "            ax.annotate(\"START\",xy=xy,xytext=xytext,weight = \"bold\")\n",
        "\n",
        "        # Show itinerary\n",
        "        if len(self.stops) > 1:\n",
        "            ax.plot(self.x[self.stops],self.y[self.stops],c = \"blue\",linewidth=1,linestyle=\"--\")\n",
        "            \n",
        "            # Annotate END\n",
        "            xy = self._get_xy(initial = False)\n",
        "            xytext = xy[0]+0.1,xy[1]-0.05\n",
        "            ax.annotate(\"END\",xy=xy,xytext=xytext,weight = \"bold\")\n",
        "\n",
        "\n",
        "        if hasattr(self,\"box\"):\n",
        "            left,bottom = self.box[0],self.box[2]\n",
        "            width = self.box[1] - self.box[0]\n",
        "            height = self.box[3] - self.box[2]\n",
        "            rect = Rectangle((left,bottom), width, height)\n",
        "            collection = PatchCollection([rect],facecolor = \"red\",alpha = 0.2)\n",
        "            ax.add_collection(collection)\n",
        "\n",
        "\n",
        "        plt.xticks([])\n",
        "        plt.yticks([])\n",
        "        \n",
        "        if return_img:\n",
        "            # From https://ndres.me/post/matplotlib-animated-gifs-easily/\n",
        "            fig.canvas.draw_idle()\n",
        "            image = np.frombuffer(fig.canvas.tostring_rgb(), dtype='uint8')\n",
        "            image  = image.reshape(fig.canvas.get_width_height()[::-1] + (3,))\n",
        "            plt.close()\n",
        "            return image\n",
        "        else:\n",
        "            plt.show()\n",
        "\n",
        "\n",
        "\n",
        "    def reset(self):\n",
        "\n",
        "        # Stops placeholder\n",
        "        self.stops = []\n",
        "\n",
        "        # Random first stop\n",
        "        self.first_stop = np.random.randint(self.n_stops)\n",
        "        self.stops.append(self.first_stop)\n",
        "\n",
        "        return self.first_stop\n",
        "\n",
        "\n",
        "    def step(self,destination):\n",
        "\n",
        "        # Get current state\n",
        "        state = self._get_state()\n",
        "        new_state = destination\n",
        "\n",
        "        # Get reward for such a move\n",
        "        reward = self._get_reward(state,new_state)\n",
        "\n",
        "        # Append new_state to stops\n",
        "        self.stops.append(destination)\n",
        "        done = len(self.stops) == self.n_stops\n",
        "\n",
        "        return new_state,-reward,done\n",
        "    \n",
        "\n",
        "    def _get_state(self):\n",
        "        return self.stops[-1]\n",
        "\n",
        "\n",
        "    def _get_xy(self,initial = False):\n",
        "        state = self.stops[0] if initial else self._get_state()\n",
        "        x = self.x[state]\n",
        "        y = self.y[state]\n",
        "        return x,y\n",
        "\n",
        "\n",
        "    def _get_reward(self,state,new_state):\n",
        "        base_reward = self.q_stops[state,new_state]\n",
        "\n",
        "        if self.method == \"distance\":\n",
        "            return base_reward\n",
        "        elif self.method == \"time\":\n",
        "            return base_reward + np.random.randn()\n",
        "        elif self.method == \"traffic_box\":\n",
        "\n",
        "            # Additional reward correspond to slowing down in traffic\n",
        "            xs,ys = self.x[state],self.y[state]\n",
        "            xe,ye = self.x[new_state],self.y[new_state]\n",
        "            intersections = self._calculate_box_intersection(xs,xe,ys,ye,self.box)\n",
        "            if len(intersections) > 0:\n",
        "                i1,i2 = intersections\n",
        "                distance_traffic = np.sqrt((i2[1]-i1[1])**2 + (i2[0]-i1[0])**2)\n",
        "                additional_reward = distance_traffic * self.traffic_intensity * np.random.rand()\n",
        "            else:\n",
        "                additional_reward = np.random.rand()\n",
        "\n",
        "            return base_reward + additional_reward\n",
        "\n",
        "\n",
        "    @staticmethod\n",
        "    def _calculate_point(x1,x2,y1,y2,x = None,y = None):\n",
        "\n",
        "        if y1 == y2:\n",
        "            return y1\n",
        "        elif x1 == x2:\n",
        "            return x1\n",
        "        else:\n",
        "            a = (y2-y1)/(x2-x1)\n",
        "            b = y2 - a * x2\n",
        "\n",
        "            if x is None:\n",
        "                x = (y-b)/a\n",
        "                return x\n",
        "            elif y is None:\n",
        "                y = a*x+b\n",
        "                return y\n",
        "            else:\n",
        "                raise Exception(\"Provide x or y\")\n",
        "\n",
        "\n",
        "    def _is_in_box(self,x,y,box):\n",
        "        # Get box coordinates\n",
        "        x_left,x_right,y_bottom,y_top = box\n",
        "        return x >= x_left and x <= x_right and y >= y_bottom and y <= y_top\n",
        "\n",
        "\n",
        "    def _calculate_box_intersection(self,x1,x2,y1,y2,box):\n",
        "\n",
        "        # Get box coordinates\n",
        "        x_left,x_right,y_bottom,y_top = box\n",
        "\n",
        "        # Intersections\n",
        "        intersections = []\n",
        "\n",
        "        # Top intersection\n",
        "        i_top = self._calculate_point(x1,x2,y1,y2,y=y_top)\n",
        "        if i_top > x_left and i_top < x_right:\n",
        "            intersections.append((i_top,y_top))\n",
        "\n",
        "        # Bottom intersection\n",
        "        i_bottom = self._calculate_point(x1,x2,y1,y2,y=y_bottom)\n",
        "        if i_bottom > x_left and i_bottom < x_right:\n",
        "            intersections.append((i_bottom,y_bottom))\n",
        "\n",
        "        # Left intersection\n",
        "        i_left = self._calculate_point(x1,x2,y1,y2,x=x_left)\n",
        "        if i_left > y_bottom and i_left < y_top:\n",
        "            intersections.append((x_left,i_left))\n",
        "\n",
        "        # Right intersection\n",
        "        i_right = self._calculate_point(x1,x2,y1,y2,x=x_right)\n",
        "        if i_right > y_bottom and i_right < y_top:\n",
        "            intersections.append((x_right,i_right))\n",
        "\n",
        "        return intersections\n"
      ]
    },
    {
      "cell_type": "markdown",
      "source": [
        "# Create same environmet with gym"
      ],
      "metadata": {
        "id": "kFSmkoggns74"
      }
    },
    {
      "cell_type": "code",
      "source": [
        "import gymnasium\n",
        "from gymnasium import spaces\n",
        "import numpy as np\n",
        "from sklearn.preprocessing import normalize\n",
        "\n",
        "class DeliveryEnv(gymnasium.Env):\n",
        "    metadata = {'render.modes': ['human']}\n",
        "\n",
        "    def __init__(self, n_stops=10, max_box=10, method=\"distance\", **kwargs):\n",
        "        print('number of stops' + str(n_stops))\n",
        "        self.n_stops = n_stops\n",
        "        self.max_box = max_box\n",
        "        self.method = method\n",
        "        self.kwargs = kwargs\n",
        "        self.delivery_env = DeliveryEnvironment(n_stops=n_stops, max_box=max_box, method=method, **kwargs)\n",
        "        self.action_space = spaces.Discrete(n_stops)\n",
        "        self.observation_space = spaces.Box(low=0, high=1, shape=(n_stops * 4,), dtype=np.float32)\n",
        "        self.state = None\n",
        "        self.truncated = False\n",
        "        self.terminated = False\n",
        "        self.reward_episode = 0\n",
        "\n",
        "    def step(self, action):\n",
        "        \n",
        "        if action in self.delivery_env.stops:\n",
        "          reward = -50\n",
        "          state = self.state\n",
        "          self.truncated = True\n",
        "        else: \n",
        "          state, reward, done = self.delivery_env.step(action)\n",
        "        if len(self.delivery_env.stops) == self.n_stops:\n",
        "          self.terminated = True\n",
        "\n",
        "        self.state = state\n",
        "        one_hot_state = self.one_hot_encode(state, self.n_stops)\n",
        "\n",
        "        # Encode and normalize the positon of all the points\n",
        "        points_normalized = np.concatenate((normalize([self.delivery_env.x]), normalize([self.delivery_env.y]))).flatten()\n",
        "\n",
        "        self.reward_episode += reward     \n",
        "\n",
        "        return np.concatenate((one_hot_state, points_normalized, self.stops_encoder())).flatten(), reward, self.terminated, self.truncated , {} \n",
        "\n",
        "    def reset(self, seed=None, options=None):\n",
        "        self.delivery_env = DeliveryEnvironment(n_stops=self.n_stops, max_box=self.max_box, method=self.method, **self.kwargs)\n",
        "        self.state = self.delivery_env.reset()\n",
        "        one_hot_state = self.one_hot_encode(self.state, self.n_stops)\n",
        "\n",
        "        # Encode and normalize the positon of all the points\n",
        "        points_normalized = np.concatenate((normalize([self.delivery_env.x]), normalize([self.delivery_env.y]))).flatten()\n",
        "\n",
        "        # Reset attributes\n",
        "        self.reward_episode = 0\n",
        "        self.truncated = False\n",
        "        self.terminated = False\n",
        "\n",
        "\n",
        "        return np.concatenate((one_hot_state, points_normalized, self.stops_encoder())).flatten(), {}\n",
        "\n",
        "    def one_hot_encode(self, state, n_stops):\n",
        "        one_hot = np.zeros(n_stops)\n",
        "        one_hot[state] = 1\n",
        "        return one_hot\n",
        "\n",
        "    def stops_encoder(self):\n",
        "      result = [1 if i in self.delivery_env.stops else 0 for i in range(self.n_stops)]\n",
        "      return result\n",
        "\n",
        "    def render(self, mode='human', close=False):\n",
        "        return self.delivery_env.render(return_img=True)\n",
        "\n"
      ],
      "metadata": {
        "id": "xVJYecnEriq2"
      },
      "execution_count": null,
      "outputs": []
    },
    {
      "cell_type": "code",
      "source": [
        "env = DeliveryEnv(n_stops=5, max_box=10, method=\"distance\")"
      ],
      "metadata": {
        "colab": {
          "base_uri": "https://localhost:8080/"
        },
        "id": "hykhpQyTrqgI",
        "outputId": "f3de3362-5cd1-4e61-f50c-a9b2f2324ed5"
      },
      "execution_count": null,
      "outputs": [
        {
          "output_type": "stream",
          "name": "stdout",
          "text": [
            "number of stops5\n"
          ]
        }
      ]
    },
    {
      "cell_type": "code",
      "source": [
        "env.delivery_env.stops"
      ],
      "metadata": {
        "colab": {
          "base_uri": "https://localhost:8080/"
        },
        "id": "JN0UqZsczpv9",
        "outputId": "dca459f5-8e59-49a3-ac06-035e24629d9d"
      },
      "execution_count": null,
      "outputs": [
        {
          "output_type": "execute_result",
          "data": {
            "text/plain": [
              "[0]"
            ]
          },
          "metadata": {},
          "execution_count": 59
        }
      ]
    },
    {
      "cell_type": "code",
      "source": [
        "env.action_space"
      ],
      "metadata": {
        "id": "GOdw4D1rH1Ew",
        "colab": {
          "base_uri": "https://localhost:8080/"
        },
        "outputId": "3681fb6d-91fa-4f40-a76c-25aa743a1916"
      },
      "execution_count": null,
      "outputs": [
        {
          "output_type": "execute_result",
          "data": {
            "text/plain": [
              "Discrete(5)"
            ]
          },
          "metadata": {},
          "execution_count": 8
        }
      ]
    },
    {
      "cell_type": "code",
      "source": [
        "env.observation_space.shape"
      ],
      "metadata": {
        "id": "g58kxr7tcuhy",
        "colab": {
          "base_uri": "https://localhost:8080/"
        },
        "outputId": "7aec95b2-3b98-4a63-8fef-938fcfc0f4f7"
      },
      "execution_count": null,
      "outputs": [
        {
          "output_type": "execute_result",
          "data": {
            "text/plain": [
              "(15,)"
            ]
          },
          "metadata": {},
          "execution_count": 9
        }
      ]
    },
    {
      "cell_type": "code",
      "source": [
        "env.action_space.sample()"
      ],
      "metadata": {
        "id": "II_vzTQIqbnh",
        "colab": {
          "base_uri": "https://localhost:8080/"
        },
        "outputId": "ae4aafb4-8345-4b3e-e5c1-e178ab10220f"
      },
      "execution_count": null,
      "outputs": [
        {
          "output_type": "execute_result",
          "data": {
            "text/plain": [
              "4"
            ]
          },
          "metadata": {},
          "execution_count": 10
        }
      ]
    },
    {
      "cell_type": "code",
      "source": [
        "env.step(2)"
      ],
      "metadata": {
        "id": "XcvoC6XFZiCN",
        "colab": {
          "base_uri": "https://localhost:8080/"
        },
        "outputId": "cc913b80-40f1-4620-ad91-16629d1526c7"
      },
      "execution_count": null,
      "outputs": [
        {
          "output_type": "execute_result",
          "data": {
            "text/plain": [
              "(array([0.        , 0.        , 1.        , 0.        , 0.        ,\n",
              "        0.47391059, 0.40317757, 0.51610846, 0.35357471, 0.47060979,\n",
              "        0.31747474, 0.48306511, 0.73553452, 0.34384813, 0.08133465,\n",
              "        1.        , 0.        , 1.        , 0.        , 0.        ]),\n",
              " -4.684689907745888,\n",
              " False,\n",
              " False,\n",
              " {})"
            ]
          },
          "metadata": {},
          "execution_count": 68
        }
      ]
    },
    {
      "cell_type": "code",
      "source": [
        "env.delivery_env.first_stop"
      ],
      "metadata": {
        "id": "wHuSMSIeqimL",
        "colab": {
          "base_uri": "https://localhost:8080/"
        },
        "outputId": "69846131-e597-4bd7-a45b-40c1ba57987d"
      },
      "execution_count": null,
      "outputs": [
        {
          "output_type": "execute_result",
          "data": {
            "text/plain": [
              "3"
            ]
          },
          "metadata": {},
          "execution_count": 12
        }
      ]
    },
    {
      "cell_type": "code",
      "source": [
        "env.observation_space"
      ],
      "metadata": {
        "id": "kuMPwQOfeU7h",
        "colab": {
          "base_uri": "https://localhost:8080/"
        },
        "outputId": "663f82f1-f3c0-41d6-c211-db0bc2f3b5ec"
      },
      "execution_count": null,
      "outputs": [
        {
          "output_type": "execute_result",
          "data": {
            "text/plain": [
              "Box(0.0, 1.0, (15,), float32)"
            ]
          },
          "metadata": {},
          "execution_count": 13
        }
      ]
    },
    {
      "cell_type": "code",
      "source": [
        "env.reward_range"
      ],
      "metadata": {
        "id": "_PEj60rgemc6",
        "colab": {
          "base_uri": "https://localhost:8080/"
        },
        "outputId": "309b6868-ed21-4ae9-c20f-1c1ff5508ff4"
      },
      "execution_count": null,
      "outputs": [
        {
          "output_type": "execute_result",
          "data": {
            "text/plain": [
              "(-inf, inf)"
            ]
          },
          "metadata": {},
          "execution_count": 14
        }
      ]
    },
    {
      "cell_type": "code",
      "source": [
        "env.reset()"
      ],
      "metadata": {
        "colab": {
          "base_uri": "https://localhost:8080/"
        },
        "id": "H2IdxTWChge2",
        "outputId": "a859959e-b09e-4d92-a235-8972f2a35cde"
      },
      "execution_count": null,
      "outputs": [
        {
          "output_type": "execute_result",
          "data": {
            "text/plain": [
              "(array([1.        , 0.        , 0.        , 0.        , 0.        ,\n",
              "        0.51227051, 0.41213361, 0.51738183, 0.52426772, 0.15869533,\n",
              "        0.05100925, 0.45431721, 0.3509565 , 0.57893381, 0.57676607]),\n",
              " {})"
            ]
          },
          "metadata": {},
          "execution_count": 15
        }
      ]
    },
    {
      "cell_type": "markdown",
      "source": [
        "## Training algorithm RL "
      ],
      "metadata": {
        "id": "WQFNyNNoFe4A"
      }
    },
    {
      "cell_type": "code",
      "source": [
        "import ray\n",
        "\n",
        "ray.init(num_cpus=3, ignore_reinit_error=True, log_to_driver=False)"
      ],
      "metadata": {
        "colab": {
          "base_uri": "https://localhost:8080/",
          "height": 79
        },
        "id": "aTX4RW9Ct18X",
        "outputId": "2c338a54-f1c5-49d5-e7d8-56f427a71b45"
      },
      "execution_count": null,
      "outputs": [
        {
          "output_type": "stream",
          "name": "stderr",
          "text": [
            "2023-04-29 19:13:39,267\tINFO worker.py:1625 -- Started a local Ray instance.\n"
          ]
        },
        {
          "output_type": "execute_result",
          "data": {
            "text/plain": [
              "RayContext(dashboard_url='', python_version='3.10.11', ray_version='2.4.0', ray_commit='4479f66d4db967d3c9dd0af2572061276ba926ba', address_info={'node_ip_address': '172.28.0.12', 'raylet_ip_address': '172.28.0.12', 'redis_address': None, 'object_store_address': '/tmp/ray/session_2023-04-29_19-13-35_879004_507/sockets/plasma_store', 'raylet_socket_name': '/tmp/ray/session_2023-04-29_19-13-35_879004_507/sockets/raylet', 'webui_url': '', 'session_dir': '/tmp/ray/session_2023-04-29_19-13-35_879004_507', 'metrics_export_port': 65517, 'gcs_address': '172.28.0.12:56394', 'address': '172.28.0.12:56394', 'dashboard_agent_listen_port': 52365, 'node_id': '35c7e0d7dd43ac08312cb778eb04f49e1358bd65eda70a08ef3861bb'})"
            ],
            "text/html": [
              "<div>\n",
              "    <div style=\"margin-left: 50px;display: flex;flex-direction: row;align-items: center\">\n",
              "        <h3 style=\"color: var(--jp-ui-font-color0)\">Ray</h3>\n",
              "        <svg version=\"1.1\" id=\"ray\" width=\"3em\" viewBox=\"0 0 144.5 144.6\" style=\"margin-left: 3em;margin-right: 3em\">\n",
              "            <g id=\"layer-1\">\n",
              "                <path fill=\"#00a2e9\" class=\"st0\" d=\"M97.3,77.2c-3.8-1.1-6.2,0.9-8.3,5.1c-3.5,6.8-9.9,9.9-17.4,9.6S58,88.1,54.8,81.2c-1.4-3-3-4-6.3-4.1\n",
              "                    c-5.6-0.1-9.9,0.1-13.1,6.4c-3.8,7.6-13.6,10.2-21.8,7.6C5.2,88.4-0.4,80.5,0,71.7c0.1-8.4,5.7-15.8,13.8-18.2\n",
              "                    c8.4-2.6,17.5,0.7,22.3,8c1.3,1.9,1.3,5.2,3.6,5.6c3.9,0.6,8,0.2,12,0.2c1.8,0,1.9-1.6,2.4-2.8c3.5-7.8,9.7-11.8,18-11.9\n",
              "                    c8.2-0.1,14.4,3.9,17.8,11.4c1.3,2.8,2.9,3.6,5.7,3.3c1-0.1,2,0.1,3,0c2.8-0.5,6.4,1.7,8.1-2.7s-2.3-5.5-4.1-7.5\n",
              "                    c-5.1-5.7-10.9-10.8-16.1-16.3C84,38,81.9,37.1,78,38.3C66.7,42,56.2,35.7,53,24.1C50.3,14,57.3,2.8,67.7,0.5\n",
              "                    C78.4-2,89,4.7,91.5,15.3c0.1,0.3,0.1,0.5,0.2,0.8c0.7,3.4,0.7,6.9-0.8,9.8c-1.7,3.2-0.8,5,1.5,7.2c6.7,6.5,13.3,13,19.8,19.7\n",
              "                    c1.8,1.8,3,2.1,5.5,1.2c9.1-3.4,17.9-0.6,23.4,7c4.8,6.9,4.6,16.1-0.4,22.9c-5.4,7.2-14.2,9.9-23.1,6.5c-2.3-0.9-3.5-0.6-5.1,1.1\n",
              "                    c-6.7,6.9-13.6,13.7-20.5,20.4c-1.8,1.8-2.5,3.2-1.4,5.9c3.5,8.7,0.3,18.6-7.7,23.6c-7.9,5-18.2,3.8-24.8-2.9\n",
              "                    c-6.4-6.4-7.4-16.2-2.5-24.3c4.9-7.8,14.5-11,23.1-7.8c3,1.1,4.7,0.5,6.9-1.7C91.7,98.4,98,92.3,104.2,86c1.6-1.6,4.1-2.7,2.6-6.2\n",
              "                    c-1.4-3.3-3.8-2.5-6.2-2.6C99.8,77.2,98.9,77.2,97.3,77.2z M72.1,29.7c5.5,0.1,9.9-4.3,10-9.8c0-0.1,0-0.2,0-0.3\n",
              "                    C81.8,14,77,9.8,71.5,10.2c-5,0.3-9,4.2-9.3,9.2c-0.2,5.5,4,10.1,9.5,10.3C71.8,29.7,72,29.7,72.1,29.7z M72.3,62.3\n",
              "                    c-5.4-0.1-9.9,4.2-10.1,9.7c0,0.2,0,0.3,0,0.5c0.2,5.4,4.5,9.7,9.9,10c5.1,0.1,9.9-4.7,10.1-9.8c0.2-5.5-4-10-9.5-10.3\n",
              "                    C72.6,62.3,72.4,62.3,72.3,62.3z M115,72.5c0.1,5.4,4.5,9.7,9.8,9.9c5.6-0.2,10-4.8,10-10.4c-0.2-5.4-4.6-9.7-10-9.7\n",
              "                    c-5.3-0.1-9.8,4.2-9.9,9.5C115,72.1,115,72.3,115,72.5z M19.5,62.3c-5.4,0.1-9.8,4.4-10,9.8c-0.1,5.1,5.2,10.4,10.2,10.3\n",
              "                    c5.6-0.2,10-4.9,9.8-10.5c-0.1-5.4-4.5-9.7-9.9-9.6C19.6,62.3,19.5,62.3,19.5,62.3z M71.8,134.6c5.9,0.2,10.3-3.9,10.4-9.6\n",
              "                    c0.5-5.5-3.6-10.4-9.1-10.8c-5.5-0.5-10.4,3.6-10.8,9.1c0,0.5,0,0.9,0,1.4c-0.2,5.3,4,9.8,9.3,10\n",
              "                    C71.6,134.6,71.7,134.6,71.8,134.6z\"/>\n",
              "            </g>\n",
              "        </svg>\n",
              "        <table>\n",
              "            <tr>\n",
              "                <td style=\"text-align: left\"><b>Python version:</b></td>\n",
              "                <td style=\"text-align: left\"><b>3.10.11</b></td>\n",
              "            </tr>\n",
              "            <tr>\n",
              "                <td style=\"text-align: left\"><b>Ray version:</b></td>\n",
              "                <td style=\"text-align: left\"><b> 2.4.0</b></td>\n",
              "            </tr>\n",
              "            \n",
              "        </table>\n",
              "    </div>\n",
              "</div>\n"
            ]
          },
          "metadata": {},
          "execution_count": 23
        }
      ]
    },
    {
      "cell_type": "markdown",
      "source": [
        "### Custom model"
      ],
      "metadata": {
        "id": "ztg_I7_kwstl"
      }
    },
    {
      "cell_type": "code",
      "source": [
        "# Create custom model\n",
        "import torch\n",
        "import torch.nn as nn\n",
        "from ray.rllib.models.torch.torch_modelv2 import TorchModelV2\n",
        "from ray.rllib.utils import override\n",
        "\n",
        "# Custom Model\n",
        "class CustomDQNModel(TorchModelV2, nn.Module):\n",
        "    def __init__(self, obs_space, action_space, num_outputs, model_config, name):\n",
        "        TorchModelV2.__init__(self, obs_space, action_space, num_outputs, model_config, name)\n",
        "        nn.Module.__init__(self)\n",
        "       \n",
        "        input_size = obs_space.shape[0]\n",
        "        print('input size is ')\n",
        "        print(input_size)\n",
        "        self.input_layer = nn.Linear(input_size, input_size)\n",
        "        self.hidden1 = nn.Linear(obs_space.shape[0], 256)\n",
        "        self.hidden2 = nn.Linear(256, 256)\n",
        "        self.output_layer = nn.Linear(256, num_outputs)\n",
        "\n",
        "        # Add a separate output head for the value function\n",
        "        self.value_output_layer = nn.Linear(256, 1)\n",
        "\n",
        "    def forward(self, input_dict, state, seq_lens):\n",
        "        x = input_dict[\"obs\"].float()\n",
        "        x = torch.tanh(self.input_layer(x))\n",
        "        x = torch.relu(self.hidden1(x))\n",
        "        x = torch.relu(self.hidden2(x))\n",
        "        x = self.output_layer(x)\n",
        "\n",
        "        # Compute the value function\n",
        "        value = self.value_output_layer(x)\n",
        "        \n",
        "        return x, []\n",
        "\n",
        "    @override(TorchModelV2)\n",
        "    def value_function(self):\n",
        "        return torch.reshape(self._value, [-1])"
      ],
      "metadata": {
        "id": "YZzpngsuwb1E",
        "colab": {
          "base_uri": "https://localhost:8080/"
        },
        "outputId": "0d8ae24b-6337-43e9-ff0c-82b3d9c976ed"
      },
      "execution_count": null,
      "outputs": [
        {
          "output_type": "stream",
          "name": "stderr",
          "text": [
            "/usr/local/lib/python3.10/dist-packages/ipykernel/ipkernel.py:283: DeprecationWarning: `should_run_async` will not call `transform_cell` automatically in the future. Please pass the result to `transformed_cell` argument and any exception that happen during thetransform in `preprocessing_exc_tuple` in IPython 7.17 and above.\n",
            "  and should_run_async(code)\n"
          ]
        }
      ]
    },
    {
      "cell_type": "code",
      "source": [
        "F"
      ],
      "metadata": {
        "id": "gi2L8fJZc05U"
      },
      "execution_count": null,
      "outputs": []
    },
    {
      "cell_type": "markdown",
      "source": [
        "### Register model"
      ],
      "metadata": {
        "id": "bzLv6Jkjwqwq"
      }
    },
    {
      "cell_type": "code",
      "source": [
        "from ray.rllib.models import ModelCatalog\n",
        "\n",
        "# Register the custom model\n",
        "ModelCatalog.register_custom_model(\"custom_dqn_model\", CustomDQNModel)"
      ],
      "metadata": {
        "id": "6K2Jpwg9wz4f"
      },
      "execution_count": null,
      "outputs": []
    },
    {
      "cell_type": "markdown",
      "source": [
        "### Train custom model manual"
      ],
      "metadata": {
        "id": "ijNa3Oh95gtb"
      }
    },
    {
      "cell_type": "code",
      "source": [
        "config.to_dict()"
      ],
      "metadata": {
        "colab": {
          "base_uri": "https://localhost:8080/"
        },
        "id": "HtG3oiZVgsJd",
        "outputId": "23e78666-e2f4-4b72-ccb7-5c6138a26e6e"
      },
      "execution_count": null,
      "outputs": [
        {
          "output_type": "stream",
          "name": "stderr",
          "text": [
            "/usr/local/lib/python3.10/dist-packages/ipykernel/ipkernel.py:283: DeprecationWarning: `should_run_async` will not call `transform_cell` automatically in the future. Please pass the result to `transformed_cell` argument and any exception that happen during thetransform in `preprocessing_exc_tuple` in IPython 7.17 and above.\n",
            "  and should_run_async(code)\n"
          ]
        },
        {
          "output_type": "execute_result",
          "data": {
            "text/plain": [
              "{'extra_python_environs_for_driver': {},\n",
              " 'extra_python_environs_for_worker': {},\n",
              " 'num_gpus': 0,\n",
              " 'num_cpus_per_worker': 1,\n",
              " 'num_gpus_per_worker': 0,\n",
              " '_fake_gpus': False,\n",
              " 'num_learner_workers': 0,\n",
              " 'num_gpus_per_learner_worker': 0,\n",
              " 'num_cpus_per_learner_worker': 1,\n",
              " 'local_gpu_idx': 0,\n",
              " 'custom_resources_per_worker': {},\n",
              " 'placement_strategy': 'PACK',\n",
              " 'eager_tracing': False,\n",
              " 'eager_max_retraces': 20,\n",
              " 'tf_session_args': {'intra_op_parallelism_threads': 2,\n",
              "  'inter_op_parallelism_threads': 2,\n",
              "  'gpu_options': {'allow_growth': True},\n",
              "  'log_device_placement': False,\n",
              "  'device_count': {'CPU': 1},\n",
              "  'allow_soft_placement': True},\n",
              " 'local_tf_session_args': {'intra_op_parallelism_threads': 8,\n",
              "  'inter_op_parallelism_threads': 8},\n",
              " 'env': 'DeliveryEnv-v0',\n",
              " 'env_config': {'n_stops': 5},\n",
              " 'observation_space': None,\n",
              " 'action_space': None,\n",
              " 'env_task_fn': None,\n",
              " 'render_env': False,\n",
              " 'clip_rewards': None,\n",
              " 'normalize_actions': True,\n",
              " 'clip_actions': False,\n",
              " 'disable_env_checking': True,\n",
              " 'is_atari': None,\n",
              " 'auto_wrap_old_gym_envs': True,\n",
              " 'num_envs_per_worker': 1,\n",
              " 'sample_collector': ray.rllib.evaluation.collectors.simple_list_collector.SimpleListCollector,\n",
              " 'sample_async': False,\n",
              " 'enable_connectors': True,\n",
              " 'rollout_fragment_length': 'auto',\n",
              " 'batch_mode': 'truncate_episodes',\n",
              " 'remote_worker_envs': False,\n",
              " 'remote_env_batch_wait_ms': 0,\n",
              " 'validate_workers_after_construction': True,\n",
              " 'preprocessor_pref': 'deepmind',\n",
              " 'observation_filter': 'NoFilter',\n",
              " 'synchronize_filters': True,\n",
              " 'compress_observations': False,\n",
              " 'enable_tf1_exec_eagerly': False,\n",
              " 'sampler_perf_stats_ema_coef': None,\n",
              " 'gamma': 0.99,\n",
              " 'lr': 0.0005,\n",
              " 'train_batch_size': 32,\n",
              " 'model': {'_disable_preprocessor_api': False,\n",
              "  '_disable_action_flattening': False,\n",
              "  'fcnet_hiddens': [256, 256],\n",
              "  'fcnet_activation': 'tanh',\n",
              "  'conv_filters': None,\n",
              "  'conv_activation': 'relu',\n",
              "  'post_fcnet_hiddens': [],\n",
              "  'post_fcnet_activation': 'relu',\n",
              "  'free_log_std': False,\n",
              "  'no_final_linear': False,\n",
              "  'vf_share_layers': True,\n",
              "  'use_lstm': False,\n",
              "  'max_seq_len': 20,\n",
              "  'lstm_cell_size': 256,\n",
              "  'lstm_use_prev_action': False,\n",
              "  'lstm_use_prev_reward': False,\n",
              "  '_time_major': False,\n",
              "  'use_attention': False,\n",
              "  'attention_num_transformer_units': 1,\n",
              "  'attention_dim': 64,\n",
              "  'attention_num_heads': 1,\n",
              "  'attention_head_dim': 32,\n",
              "  'attention_memory_inference': 50,\n",
              "  'attention_memory_training': 50,\n",
              "  'attention_position_wise_mlp_dim': 32,\n",
              "  'attention_init_gru_gate_bias': 2.0,\n",
              "  'attention_use_n_prev_actions': 0,\n",
              "  'attention_use_n_prev_rewards': 0,\n",
              "  'framestack': True,\n",
              "  'dim': 84,\n",
              "  'grayscale': False,\n",
              "  'zero_mean': True,\n",
              "  'custom_model': 'custom_dqn_model',\n",
              "  'custom_model_config': {},\n",
              "  'custom_action_dist': None,\n",
              "  'custom_preprocessor': None,\n",
              "  'encoder_latent_dim': None,\n",
              "  'lstm_use_prev_action_reward': -1,\n",
              "  '_use_default_native_models': -1},\n",
              " 'optimizer': {},\n",
              " 'max_requests_in_flight_per_sampler_worker': 2,\n",
              " 'learner_class': None,\n",
              " '_enable_learner_api': False,\n",
              " '_learner_hps': LearnerHPs(),\n",
              " 'explore': True,\n",
              " 'exploration_config': {'type': 'EpsilonGreedy',\n",
              "  'initial_epsilon': 1.0,\n",
              "  'final_epsilon': 0.02,\n",
              "  'epsilon_timesteps': 10000},\n",
              " 'policy_states_are_swappable': False,\n",
              " 'input_config': {},\n",
              " 'actions_in_input_normalized': False,\n",
              " 'postprocess_inputs': False,\n",
              " 'shuffle_buffer_size': 0,\n",
              " 'output': None,\n",
              " 'output_config': {},\n",
              " 'output_compress_columns': ['obs', 'new_obs'],\n",
              " 'output_max_file_size': 67108864,\n",
              " 'offline_sampling': False,\n",
              " 'evaluation_interval': None,\n",
              " 'evaluation_duration': 10,\n",
              " 'evaluation_duration_unit': 'episodes',\n",
              " 'evaluation_sample_timeout_s': 180.0,\n",
              " 'evaluation_parallel_to_training': False,\n",
              " 'evaluation_config': {'explore': False},\n",
              " 'off_policy_estimation_methods': {},\n",
              " 'ope_split_batch_by_episode': True,\n",
              " 'evaluation_num_workers': 0,\n",
              " 'always_attach_evaluation_results': False,\n",
              " 'enable_async_evaluation': False,\n",
              " 'in_evaluation': False,\n",
              " 'sync_filters_on_rollout_workers_timeout_s': 60.0,\n",
              " 'keep_per_episode_custom_metrics': False,\n",
              " 'metrics_episode_collection_timeout_s': 60.0,\n",
              " 'metrics_num_episodes_for_smoothing': 100,\n",
              " 'min_time_s_per_iteration': None,\n",
              " 'min_train_timesteps_per_iteration': 0,\n",
              " 'min_sample_timesteps_per_iteration': 1000,\n",
              " 'export_native_model_files': False,\n",
              " 'checkpoint_trainable_policies_only': False,\n",
              " 'logger_creator': None,\n",
              " 'logger_config': None,\n",
              " 'log_level': 'WARN',\n",
              " 'log_sys_usage': True,\n",
              " 'fake_sampler': False,\n",
              " 'seed': None,\n",
              " 'worker_cls': None,\n",
              " 'ignore_worker_failures': False,\n",
              " 'recreate_failed_workers': False,\n",
              " 'max_num_worker_restarts': 1000,\n",
              " 'delay_between_worker_restarts_s': 60.0,\n",
              " 'restart_failed_sub_environments': False,\n",
              " 'num_consecutive_worker_failures_tolerance': 100,\n",
              " 'worker_health_probe_timeout_s': 60,\n",
              " 'worker_restore_timeout_s': 1800,\n",
              " 'rl_module_spec': None,\n",
              " '_enable_rl_module_api': False,\n",
              " '_validate_exploration_conf_and_rl_modules': True,\n",
              " '_tf_policy_handles_more_than_one_loss': False,\n",
              " '_disable_preprocessor_api': False,\n",
              " '_disable_action_flattening': False,\n",
              " '_disable_execution_plan_api': True,\n",
              " 'simple_optimizer': -1,\n",
              " 'replay_sequence_length': None,\n",
              " 'horizon': -1,\n",
              " 'soft_horizon': -1,\n",
              " 'no_done_at_end': -1,\n",
              " 'target_network_update_freq': 500,\n",
              " 'replay_buffer_config': {'type': 'MultiAgentPrioritizedReplayBuffer',\n",
              "  'prioritized_replay': -1,\n",
              "  'capacity': 50000,\n",
              "  'prioritized_replay_alpha': 0.6,\n",
              "  'prioritized_replay_beta': 0.4,\n",
              "  'prioritized_replay_eps': 1e-06,\n",
              "  'replay_sequence_length': 1,\n",
              "  'worker_side_prioritization': False},\n",
              " 'num_steps_sampled_before_learning_starts': 1000,\n",
              " 'store_buffer_in_checkpoints': False,\n",
              " 'lr_schedule': None,\n",
              " 'adam_epsilon': 1e-08,\n",
              " 'grad_clip': 40,\n",
              " 'tau': 1.0,\n",
              " 'num_atoms': 1,\n",
              " 'v_min': -10.0,\n",
              " 'v_max': 10.0,\n",
              " 'noisy': False,\n",
              " 'sigma0': 0.5,\n",
              " 'dueling': True,\n",
              " 'hiddens': [256],\n",
              " 'double_q': True,\n",
              " 'n_step': 1,\n",
              " 'before_learn_on_batch': None,\n",
              " 'training_intensity': None,\n",
              " 'td_error_loss_fn': 'huber',\n",
              " 'categorical_distribution_temperature': 1.0,\n",
              " 'input': 'sampler',\n",
              " 'multiagent': {'policies': {'default_policy': (None, None, None, None)},\n",
              "  'policy_mapping_fn': <function ray.rllib.algorithms.algorithm_config.AlgorithmConfig.DEFAULT_POLICY_MAPPING_FN(aid, episode, worker, **kwargs)>,\n",
              "  'policies_to_train': None,\n",
              "  'policy_map_capacity': 100,\n",
              "  'policy_map_cache': -1,\n",
              "  'count_steps_by': 'env_steps',\n",
              "  'observation_fn': None},\n",
              " 'callbacks': ray.rllib.algorithms.callbacks.DefaultCallbacks,\n",
              " 'create_env_on_driver': False,\n",
              " 'custom_eval_function': None,\n",
              " 'framework': 'torch',\n",
              " 'num_cpus_for_driver': 1,\n",
              " 'num_workers': 0}"
            ]
          },
          "metadata": {},
          "execution_count": 28
        }
      ]
    },
    {
      "cell_type": "code",
      "source": [
        "from ray.rllib.algorithms.dqn.dqn import DQNConfig\n",
        "from ray.tune.registry import register_env\n",
        "from ray.tune.logger import pretty_print\n",
        "from tqdm import tqdm\n",
        "\n",
        "# Register the custom environment\n",
        "def env_creator(env_config):\n",
        "    return DeliveryEnv(n_stops=env_config['n_stops'])\n",
        "\n",
        "register_env(\"DeliveryEnv-v0\", env_creator)\n",
        "\n",
        "config = DQNConfig()\n",
        "config = config.environment(env='DeliveryEnv-v0', disable_env_checking=True, \n",
        "                           env_config={'n_stops': 5})\n",
        "config = config.framework(\"torch\").training(model={\n",
        "   \"custom_model\": \"custom_dqn_model\"\n",
        "}\n",
        ")\n",
        "\n",
        "algo = config.build()\n",
        "episode_reward_mean_array = []\n",
        "\n",
        "train_steps = 25\n",
        "for i in tqdm(range(train_steps)):\n",
        "    result = algo.train()\n",
        "    print(result['episode_reward_mean'])\n",
        "    episode_reward_mean_array.append(result['episode_reward_mean'])\n",
        "\n",
        "    if i % 5 == 0:\n",
        "        checkpoint_dir = algo.save()\n",
        "        print(f\"Checkpoint saved in directory {checkpoint_dir}\")\n",
        "    if i+1 == train_steps: \n",
        "        checkpoint_dir = algo.save()\n",
        "        print(f\"Checkpoint saved in directory {checkpoint_dir}\")"
      ],
      "metadata": {
        "colab": {
          "base_uri": "https://localhost:8080/",
          "height": 884
        },
        "id": "UemBTFp-5k88",
        "outputId": "876d4385-fa59-4ed1-f53c-8d86ce6ce7c2"
      },
      "execution_count": null,
      "outputs": [
        {
          "output_type": "stream",
          "name": "stderr",
          "text": [
            "2023-04-30 09:03:58,383\tWARNING util.py:67 -- Install gputil for GPU system monitoring.\n"
          ]
        },
        {
          "output_type": "stream",
          "name": "stdout",
          "text": [
            "number of stops5\n",
            "input size is \n",
            "20\n",
            "input size is \n",
            "20\n"
          ]
        },
        {
          "output_type": "stream",
          "name": "stderr",
          "text": [
            "  4%|▍         | 1/25 [00:04<01:51,  4.65s/it]"
          ]
        },
        {
          "output_type": "stream",
          "name": "stdout",
          "text": [
            "-18.086088689527106\n",
            "Checkpoint saved in directory /root/ray_results/DQN_DeliveryEnv-v0_2023-04-30_09-03-58qylvqbfl/checkpoint_000001\n"
          ]
        },
        {
          "output_type": "stream",
          "name": "stderr",
          "text": [
            "\r  8%|▊         | 2/25 [00:41<08:56, 23.33s/it]"
          ]
        },
        {
          "output_type": "stream",
          "name": "stdout",
          "text": [
            "-17.35496877589966\n"
          ]
        },
        {
          "output_type": "stream",
          "name": "stderr",
          "text": [
            "\r 12%|█▏        | 3/25 [01:22<11:35, 31.62s/it]"
          ]
        },
        {
          "output_type": "stream",
          "name": "stdout",
          "text": [
            "-18.244436402147564\n"
          ]
        },
        {
          "output_type": "stream",
          "name": "stderr",
          "text": [
            "\r 16%|█▌        | 4/25 [01:59<11:49, 33.80s/it]"
          ]
        },
        {
          "output_type": "stream",
          "name": "stdout",
          "text": [
            "-18.680907138585887\n"
          ]
        },
        {
          "output_type": "stream",
          "name": "stderr",
          "text": [
            "\r 20%|██        | 5/25 [02:39<11:56, 35.84s/it]"
          ]
        },
        {
          "output_type": "stream",
          "name": "stdout",
          "text": [
            "-20.041750753882777\n"
          ]
        },
        {
          "output_type": "stream",
          "name": "stderr",
          "text": [
            "\r 24%|██▍       | 6/25 [03:16<11:33, 36.50s/it]"
          ]
        },
        {
          "output_type": "stream",
          "name": "stdout",
          "text": [
            "-20.00386643302438\n",
            "Checkpoint saved in directory /root/ray_results/DQN_DeliveryEnv-v0_2023-04-30_09-03-58qylvqbfl/checkpoint_000006\n"
          ]
        },
        {
          "output_type": "stream",
          "name": "stderr",
          "text": [
            "\r 28%|██▊       | 7/25 [03:57<11:18, 37.71s/it]"
          ]
        },
        {
          "output_type": "stream",
          "name": "stdout",
          "text": [
            "-19.308576827405485\n"
          ]
        },
        {
          "output_type": "stream",
          "name": "stderr",
          "text": [
            "\r 32%|███▏      | 8/25 [04:37<10:56, 38.64s/it]"
          ]
        },
        {
          "output_type": "stream",
          "name": "stdout",
          "text": [
            "-19.836716278793048\n"
          ]
        },
        {
          "output_type": "stream",
          "name": "stderr",
          "text": [
            "\r 36%|███▌      | 9/25 [05:18<10:27, 39.23s/it]"
          ]
        },
        {
          "output_type": "stream",
          "name": "stdout",
          "text": [
            "-19.993221867885573\n"
          ]
        },
        {
          "output_type": "stream",
          "name": "stderr",
          "text": [
            "\r 40%|████      | 10/25 [05:57<09:48, 39.24s/it]"
          ]
        },
        {
          "output_type": "stream",
          "name": "stdout",
          "text": [
            "-20.42890392765951\n"
          ]
        },
        {
          "output_type": "stream",
          "name": "stderr",
          "text": [
            "\r 44%|████▍     | 11/25 [06:40<09:23, 40.26s/it]"
          ]
        },
        {
          "output_type": "stream",
          "name": "stdout",
          "text": [
            "-19.753547761660165\n",
            "Checkpoint saved in directory /root/ray_results/DQN_DeliveryEnv-v0_2023-04-30_09-03-58qylvqbfl/checkpoint_000011\n"
          ]
        },
        {
          "output_type": "stream",
          "name": "stderr",
          "text": [
            "\r 48%|████▊     | 12/25 [07:20<08:44, 40.34s/it]"
          ]
        },
        {
          "output_type": "stream",
          "name": "stdout",
          "text": [
            "-19.221402315475416\n"
          ]
        },
        {
          "output_type": "stream",
          "name": "stderr",
          "text": [
            "\r 52%|█████▏    | 13/25 [08:01<08:06, 40.51s/it]"
          ]
        },
        {
          "output_type": "stream",
          "name": "stdout",
          "text": [
            "-19.76590816927363\n"
          ]
        },
        {
          "output_type": "stream",
          "name": "stderr",
          "text": [
            "\r 56%|█████▌    | 14/25 [08:42<07:26, 40.58s/it]"
          ]
        },
        {
          "output_type": "stream",
          "name": "stdout",
          "text": [
            "-20.079697119450792\n"
          ]
        },
        {
          "output_type": "stream",
          "name": "stderr",
          "text": [
            "\r 60%|██████    | 15/25 [09:21<06:41, 40.11s/it]"
          ]
        },
        {
          "output_type": "stream",
          "name": "stdout",
          "text": [
            "-19.13301542407676\n"
          ]
        },
        {
          "output_type": "stream",
          "name": "stderr",
          "text": [
            "\r 64%|██████▍   | 16/25 [10:02<06:03, 40.34s/it]"
          ]
        },
        {
          "output_type": "stream",
          "name": "stdout",
          "text": [
            "-19.358047192751034\n",
            "Checkpoint saved in directory /root/ray_results/DQN_DeliveryEnv-v0_2023-04-30_09-03-58qylvqbfl/checkpoint_000016\n"
          ]
        },
        {
          "output_type": "stream",
          "name": "stderr",
          "text": [
            "\r 68%|██████▊   | 17/25 [10:42<05:23, 40.46s/it]"
          ]
        },
        {
          "output_type": "stream",
          "name": "stdout",
          "text": [
            "-18.430389612760365\n"
          ]
        },
        {
          "output_type": "stream",
          "name": "stderr",
          "text": [
            "\r 68%|██████▊   | 17/25 [11:21<05:20, 40.09s/it]\n"
          ]
        },
        {
          "output_type": "error",
          "ename": "KeyboardInterrupt",
          "evalue": "ignored",
          "traceback": [
            "\u001b[0;31m---------------------------------------------------------------------------\u001b[0m",
            "\u001b[0;31mKeyboardInterrupt\u001b[0m                         Traceback (most recent call last)",
            "\u001b[0;32m<ipython-input-19-0a1c20135228>\u001b[0m in \u001b[0;36m<cell line: 24>\u001b[0;34m()\u001b[0m\n\u001b[1;32m     23\u001b[0m \u001b[0mtrain_steps\u001b[0m \u001b[0;34m=\u001b[0m \u001b[0;36m25\u001b[0m\u001b[0;34m\u001b[0m\u001b[0;34m\u001b[0m\u001b[0m\n\u001b[1;32m     24\u001b[0m \u001b[0;32mfor\u001b[0m \u001b[0mi\u001b[0m \u001b[0;32min\u001b[0m \u001b[0mtqdm\u001b[0m\u001b[0;34m(\u001b[0m\u001b[0mrange\u001b[0m\u001b[0;34m(\u001b[0m\u001b[0mtrain_steps\u001b[0m\u001b[0;34m)\u001b[0m\u001b[0;34m)\u001b[0m\u001b[0;34m:\u001b[0m\u001b[0;34m\u001b[0m\u001b[0;34m\u001b[0m\u001b[0m\n\u001b[0;32m---> 25\u001b[0;31m     \u001b[0mresult\u001b[0m \u001b[0;34m=\u001b[0m \u001b[0malgo\u001b[0m\u001b[0;34m.\u001b[0m\u001b[0mtrain\u001b[0m\u001b[0;34m(\u001b[0m\u001b[0;34m)\u001b[0m\u001b[0;34m\u001b[0m\u001b[0;34m\u001b[0m\u001b[0m\n\u001b[0m\u001b[1;32m     26\u001b[0m     \u001b[0mprint\u001b[0m\u001b[0;34m(\u001b[0m\u001b[0mresult\u001b[0m\u001b[0;34m[\u001b[0m\u001b[0;34m'episode_reward_mean'\u001b[0m\u001b[0;34m]\u001b[0m\u001b[0;34m)\u001b[0m\u001b[0;34m\u001b[0m\u001b[0;34m\u001b[0m\u001b[0m\n\u001b[1;32m     27\u001b[0m     \u001b[0mepisode_reward_mean_array\u001b[0m\u001b[0;34m.\u001b[0m\u001b[0mappend\u001b[0m\u001b[0;34m(\u001b[0m\u001b[0mresult\u001b[0m\u001b[0;34m[\u001b[0m\u001b[0;34m'episode_reward_mean'\u001b[0m\u001b[0;34m]\u001b[0m\u001b[0;34m)\u001b[0m\u001b[0;34m\u001b[0m\u001b[0;34m\u001b[0m\u001b[0m\n",
            "\u001b[0;32m/usr/local/lib/python3.10/dist-packages/ray/tune/trainable/trainable.py\u001b[0m in \u001b[0;36mtrain\u001b[0;34m(self)\u001b[0m\n\u001b[1;32m    379\u001b[0m         \u001b[0mstart\u001b[0m \u001b[0;34m=\u001b[0m \u001b[0mtime\u001b[0m\u001b[0;34m.\u001b[0m\u001b[0mtime\u001b[0m\u001b[0;34m(\u001b[0m\u001b[0;34m)\u001b[0m\u001b[0;34m\u001b[0m\u001b[0;34m\u001b[0m\u001b[0m\n\u001b[1;32m    380\u001b[0m         \u001b[0;32mtry\u001b[0m\u001b[0;34m:\u001b[0m\u001b[0;34m\u001b[0m\u001b[0;34m\u001b[0m\u001b[0m\n\u001b[0;32m--> 381\u001b[0;31m             \u001b[0mresult\u001b[0m \u001b[0;34m=\u001b[0m \u001b[0mself\u001b[0m\u001b[0;34m.\u001b[0m\u001b[0mstep\u001b[0m\u001b[0;34m(\u001b[0m\u001b[0;34m)\u001b[0m\u001b[0;34m\u001b[0m\u001b[0;34m\u001b[0m\u001b[0m\n\u001b[0m\u001b[1;32m    382\u001b[0m         \u001b[0;32mexcept\u001b[0m \u001b[0mException\u001b[0m \u001b[0;32mas\u001b[0m \u001b[0me\u001b[0m\u001b[0;34m:\u001b[0m\u001b[0;34m\u001b[0m\u001b[0;34m\u001b[0m\u001b[0m\n\u001b[1;32m    383\u001b[0m             \u001b[0mskipped\u001b[0m \u001b[0;34m=\u001b[0m \u001b[0mskip_exceptions\u001b[0m\u001b[0;34m(\u001b[0m\u001b[0me\u001b[0m\u001b[0;34m)\u001b[0m\u001b[0;34m\u001b[0m\u001b[0;34m\u001b[0m\u001b[0m\n",
            "\u001b[0;32m/usr/local/lib/python3.10/dist-packages/ray/rllib/algorithms/algorithm.py\u001b[0m in \u001b[0;36mstep\u001b[0;34m(self)\u001b[0m\n\u001b[1;32m    790\u001b[0m         \u001b[0;31m#   evaluate after the training iteration is entirely done.\u001b[0m\u001b[0;34m\u001b[0m\u001b[0;34m\u001b[0m\u001b[0m\n\u001b[1;32m    791\u001b[0m         \u001b[0;32melse\u001b[0m\u001b[0;34m:\u001b[0m\u001b[0;34m\u001b[0m\u001b[0;34m\u001b[0m\u001b[0m\n\u001b[0;32m--> 792\u001b[0;31m             \u001b[0mresults\u001b[0m\u001b[0;34m,\u001b[0m \u001b[0mtrain_iter_ctx\u001b[0m \u001b[0;34m=\u001b[0m \u001b[0mself\u001b[0m\u001b[0;34m.\u001b[0m\u001b[0m_run_one_training_iteration\u001b[0m\u001b[0;34m(\u001b[0m\u001b[0;34m)\u001b[0m\u001b[0;34m\u001b[0m\u001b[0;34m\u001b[0m\u001b[0m\n\u001b[0m\u001b[1;32m    793\u001b[0m \u001b[0;34m\u001b[0m\u001b[0m\n\u001b[1;32m    794\u001b[0m         \u001b[0;31m# Sequential: Train (already done above), then evaluate.\u001b[0m\u001b[0;34m\u001b[0m\u001b[0;34m\u001b[0m\u001b[0m\n",
            "\u001b[0;32m/usr/local/lib/python3.10/dist-packages/ray/rllib/algorithms/algorithm.py\u001b[0m in \u001b[0;36m_run_one_training_iteration\u001b[0;34m(self)\u001b[0m\n\u001b[1;32m   2809\u001b[0m                 \u001b[0;32mwith\u001b[0m \u001b[0mself\u001b[0m\u001b[0;34m.\u001b[0m\u001b[0m_timers\u001b[0m\u001b[0;34m[\u001b[0m\u001b[0mTRAINING_ITERATION_TIMER\u001b[0m\u001b[0;34m]\u001b[0m\u001b[0;34m:\u001b[0m\u001b[0;34m\u001b[0m\u001b[0;34m\u001b[0m\u001b[0m\n\u001b[1;32m   2810\u001b[0m                     \u001b[0;32mif\u001b[0m \u001b[0mself\u001b[0m\u001b[0;34m.\u001b[0m\u001b[0mconfig\u001b[0m\u001b[0;34m.\u001b[0m\u001b[0m_disable_execution_plan_api\u001b[0m\u001b[0;34m:\u001b[0m\u001b[0;34m\u001b[0m\u001b[0;34m\u001b[0m\u001b[0m\n\u001b[0;32m-> 2811\u001b[0;31m                         \u001b[0mresults\u001b[0m \u001b[0;34m=\u001b[0m \u001b[0mself\u001b[0m\u001b[0;34m.\u001b[0m\u001b[0mtraining_step\u001b[0m\u001b[0;34m(\u001b[0m\u001b[0;34m)\u001b[0m\u001b[0;34m\u001b[0m\u001b[0;34m\u001b[0m\u001b[0m\n\u001b[0m\u001b[1;32m   2812\u001b[0m                     \u001b[0;32melse\u001b[0m\u001b[0;34m:\u001b[0m\u001b[0;34m\u001b[0m\u001b[0;34m\u001b[0m\u001b[0m\n\u001b[1;32m   2813\u001b[0m                         \u001b[0mresults\u001b[0m \u001b[0;34m=\u001b[0m \u001b[0mnext\u001b[0m\u001b[0;34m(\u001b[0m\u001b[0mself\u001b[0m\u001b[0;34m.\u001b[0m\u001b[0mtrain_exec_impl\u001b[0m\u001b[0;34m)\u001b[0m\u001b[0;34m\u001b[0m\u001b[0;34m\u001b[0m\u001b[0m\n",
            "\u001b[0;32m/usr/local/lib/python3.10/dist-packages/ray/rllib/algorithms/dqn/dqn.py\u001b[0m in \u001b[0;36mtraining_step\u001b[0;34m(self)\u001b[0m\n\u001b[1;32m    450\u001b[0m                     \u001b[0mtrain_results\u001b[0m \u001b[0;34m=\u001b[0m \u001b[0mtrain_one_step\u001b[0m\u001b[0;34m(\u001b[0m\u001b[0mself\u001b[0m\u001b[0;34m,\u001b[0m \u001b[0mtrain_batch\u001b[0m\u001b[0;34m)\u001b[0m\u001b[0;34m\u001b[0m\u001b[0;34m\u001b[0m\u001b[0m\n\u001b[1;32m    451\u001b[0m                 \u001b[0;32melse\u001b[0m\u001b[0;34m:\u001b[0m\u001b[0;34m\u001b[0m\u001b[0;34m\u001b[0m\u001b[0m\n\u001b[0;32m--> 452\u001b[0;31m                     \u001b[0mtrain_results\u001b[0m \u001b[0;34m=\u001b[0m \u001b[0mmulti_gpu_train_one_step\u001b[0m\u001b[0;34m(\u001b[0m\u001b[0mself\u001b[0m\u001b[0;34m,\u001b[0m \u001b[0mtrain_batch\u001b[0m\u001b[0;34m)\u001b[0m\u001b[0;34m\u001b[0m\u001b[0;34m\u001b[0m\u001b[0m\n\u001b[0m\u001b[1;32m    453\u001b[0m \u001b[0;34m\u001b[0m\u001b[0m\n\u001b[1;32m    454\u001b[0m                 \u001b[0;31m# Update replay buffer priorities.\u001b[0m\u001b[0;34m\u001b[0m\u001b[0;34m\u001b[0m\u001b[0m\n",
            "\u001b[0;32m/usr/local/lib/python3.10/dist-packages/ray/rllib/execution/train_ops.py\u001b[0m in \u001b[0;36mmulti_gpu_train_one_step\u001b[0;34m(algorithm, train_batch)\u001b[0m\n\u001b[1;32m    161\u001b[0m                     \u001b[0;31m# Note: For minibatch SGD, the data is an offset into\u001b[0m\u001b[0;34m\u001b[0m\u001b[0;34m\u001b[0m\u001b[0m\n\u001b[1;32m    162\u001b[0m                     \u001b[0;31m# the pre-loaded entire train batch.\u001b[0m\u001b[0;34m\u001b[0m\u001b[0;34m\u001b[0m\u001b[0m\n\u001b[0;32m--> 163\u001b[0;31m                     results = policy.learn_on_loaded_batch(\n\u001b[0m\u001b[1;32m    164\u001b[0m                         \u001b[0mpermutation\u001b[0m\u001b[0;34m[\u001b[0m\u001b[0mbatch_index\u001b[0m\u001b[0;34m]\u001b[0m \u001b[0;34m*\u001b[0m \u001b[0mper_device_batch_size\u001b[0m\u001b[0;34m,\u001b[0m \u001b[0mbuffer_index\u001b[0m\u001b[0;34m=\u001b[0m\u001b[0;36m0\u001b[0m\u001b[0;34m\u001b[0m\u001b[0;34m\u001b[0m\u001b[0m\n\u001b[1;32m    165\u001b[0m                     )\n",
            "\u001b[0;32m/usr/local/lib/python3.10/dist-packages/ray/rllib/policy/torch_policy.py\u001b[0m in \u001b[0;36mlearn_on_loaded_batch\u001b[0;34m(self, offset, buffer_index)\u001b[0m\n\u001b[1;32m    578\u001b[0m             \u001b[0;32melse\u001b[0m\u001b[0;34m:\u001b[0m\u001b[0;34m\u001b[0m\u001b[0;34m\u001b[0m\u001b[0m\n\u001b[1;32m    579\u001b[0m                 \u001b[0mbatch\u001b[0m \u001b[0;34m=\u001b[0m \u001b[0mself\u001b[0m\u001b[0;34m.\u001b[0m\u001b[0m_loaded_batches\u001b[0m\u001b[0;34m[\u001b[0m\u001b[0;36m0\u001b[0m\u001b[0;34m]\u001b[0m\u001b[0;34m[\u001b[0m\u001b[0;36m0\u001b[0m\u001b[0;34m]\u001b[0m\u001b[0;34m[\u001b[0m\u001b[0moffset\u001b[0m \u001b[0;34m:\u001b[0m \u001b[0moffset\u001b[0m \u001b[0;34m+\u001b[0m \u001b[0mdevice_batch_size\u001b[0m\u001b[0;34m]\u001b[0m\u001b[0;34m\u001b[0m\u001b[0;34m\u001b[0m\u001b[0m\n\u001b[0;32m--> 580\u001b[0;31m             \u001b[0;32mreturn\u001b[0m \u001b[0mself\u001b[0m\u001b[0;34m.\u001b[0m\u001b[0mlearn_on_batch\u001b[0m\u001b[0;34m(\u001b[0m\u001b[0mbatch\u001b[0m\u001b[0;34m)\u001b[0m\u001b[0;34m\u001b[0m\u001b[0;34m\u001b[0m\u001b[0m\n\u001b[0m\u001b[1;32m    581\u001b[0m \u001b[0;34m\u001b[0m\u001b[0m\n\u001b[1;32m    582\u001b[0m         \u001b[0;32mif\u001b[0m \u001b[0mlen\u001b[0m\u001b[0;34m(\u001b[0m\u001b[0mself\u001b[0m\u001b[0;34m.\u001b[0m\u001b[0mdevices\u001b[0m\u001b[0;34m)\u001b[0m \u001b[0;34m>\u001b[0m \u001b[0;36m1\u001b[0m\u001b[0;34m:\u001b[0m\u001b[0;34m\u001b[0m\u001b[0;34m\u001b[0m\u001b[0m\n",
            "\u001b[0;32m/usr/local/lib/python3.10/dist-packages/ray/rllib/utils/threading.py\u001b[0m in \u001b[0;36mwrapper\u001b[0;34m(self, *a, **k)\u001b[0m\n\u001b[1;32m     22\u001b[0m         \u001b[0;32mtry\u001b[0m\u001b[0;34m:\u001b[0m\u001b[0;34m\u001b[0m\u001b[0;34m\u001b[0m\u001b[0m\n\u001b[1;32m     23\u001b[0m             \u001b[0;32mwith\u001b[0m \u001b[0mself\u001b[0m\u001b[0;34m.\u001b[0m\u001b[0m_lock\u001b[0m\u001b[0;34m:\u001b[0m\u001b[0;34m\u001b[0m\u001b[0;34m\u001b[0m\u001b[0m\n\u001b[0;32m---> 24\u001b[0;31m                 \u001b[0;32mreturn\u001b[0m \u001b[0mfunc\u001b[0m\u001b[0;34m(\u001b[0m\u001b[0mself\u001b[0m\u001b[0;34m,\u001b[0m \u001b[0;34m*\u001b[0m\u001b[0ma\u001b[0m\u001b[0;34m,\u001b[0m \u001b[0;34m**\u001b[0m\u001b[0mk\u001b[0m\u001b[0;34m)\u001b[0m\u001b[0;34m\u001b[0m\u001b[0;34m\u001b[0m\u001b[0m\n\u001b[0m\u001b[1;32m     25\u001b[0m         \u001b[0;32mexcept\u001b[0m \u001b[0mAttributeError\u001b[0m \u001b[0;32mas\u001b[0m \u001b[0me\u001b[0m\u001b[0;34m:\u001b[0m\u001b[0;34m\u001b[0m\u001b[0;34m\u001b[0m\u001b[0m\n\u001b[1;32m     26\u001b[0m             \u001b[0;32mif\u001b[0m \u001b[0;34m\"has no attribute '_lock'\"\u001b[0m \u001b[0;32min\u001b[0m \u001b[0me\u001b[0m\u001b[0;34m.\u001b[0m\u001b[0margs\u001b[0m\u001b[0;34m[\u001b[0m\u001b[0;36m0\u001b[0m\u001b[0;34m]\u001b[0m\u001b[0;34m:\u001b[0m\u001b[0;34m\u001b[0m\u001b[0;34m\u001b[0m\u001b[0m\n",
            "\u001b[0;32m/usr/local/lib/python3.10/dist-packages/ray/rllib/policy/torch_policy.py\u001b[0m in \u001b[0;36mlearn_on_batch\u001b[0;34m(self, postprocessed_batch)\u001b[0m\n\u001b[1;32m    469\u001b[0m \u001b[0;34m\u001b[0m\u001b[0m\n\u001b[1;32m    470\u001b[0m         \u001b[0;31m# Step the optimizers.\u001b[0m\u001b[0;34m\u001b[0m\u001b[0;34m\u001b[0m\u001b[0m\n\u001b[0;32m--> 471\u001b[0;31m         \u001b[0mself\u001b[0m\u001b[0;34m.\u001b[0m\u001b[0mapply_gradients\u001b[0m\u001b[0;34m(\u001b[0m\u001b[0m_directStepOptimizerSingleton\u001b[0m\u001b[0;34m)\u001b[0m\u001b[0;34m\u001b[0m\u001b[0;34m\u001b[0m\u001b[0m\n\u001b[0m\u001b[1;32m    472\u001b[0m \u001b[0;34m\u001b[0m\u001b[0m\n\u001b[1;32m    473\u001b[0m         \u001b[0mself\u001b[0m\u001b[0;34m.\u001b[0m\u001b[0mnum_grad_updates\u001b[0m \u001b[0;34m+=\u001b[0m \u001b[0;36m1\u001b[0m\u001b[0;34m\u001b[0m\u001b[0;34m\u001b[0m\u001b[0m\n",
            "\u001b[0;32m/usr/local/lib/python3.10/dist-packages/ray/rllib/policy/policy_template.py\u001b[0m in \u001b[0;36mapply_gradients\u001b[0;34m(self, gradients)\u001b[0m\n\u001b[1;32m    388\u001b[0m                 \u001b[0mapply_gradients_fn\u001b[0m\u001b[0;34m(\u001b[0m\u001b[0mself\u001b[0m\u001b[0;34m,\u001b[0m \u001b[0mgradients\u001b[0m\u001b[0;34m)\u001b[0m\u001b[0;34m\u001b[0m\u001b[0;34m\u001b[0m\u001b[0m\n\u001b[1;32m    389\u001b[0m             \u001b[0;32melse\u001b[0m\u001b[0;34m:\u001b[0m\u001b[0;34m\u001b[0m\u001b[0;34m\u001b[0m\u001b[0m\n\u001b[0;32m--> 390\u001b[0;31m                 \u001b[0mparent_cls\u001b[0m\u001b[0;34m.\u001b[0m\u001b[0mapply_gradients\u001b[0m\u001b[0;34m(\u001b[0m\u001b[0mself\u001b[0m\u001b[0;34m,\u001b[0m \u001b[0mgradients\u001b[0m\u001b[0;34m)\u001b[0m\u001b[0;34m\u001b[0m\u001b[0;34m\u001b[0m\u001b[0m\n\u001b[0m\u001b[1;32m    391\u001b[0m \u001b[0;34m\u001b[0m\u001b[0m\n\u001b[1;32m    392\u001b[0m         \u001b[0;34m@\u001b[0m\u001b[0moverride\u001b[0m\u001b[0;34m(\u001b[0m\u001b[0mparent_cls\u001b[0m\u001b[0;34m)\u001b[0m\u001b[0;34m\u001b[0m\u001b[0;34m\u001b[0m\u001b[0m\n",
            "\u001b[0;32m/usr/local/lib/python3.10/dist-packages/ray/rllib/policy/torch_policy.py\u001b[0m in \u001b[0;36mapply_gradients\u001b[0;34m(self, gradients)\u001b[0m\n\u001b[1;32m    682\u001b[0m         \u001b[0;32mif\u001b[0m \u001b[0mgradients\u001b[0m \u001b[0;34m==\u001b[0m \u001b[0m_directStepOptimizerSingleton\u001b[0m\u001b[0;34m:\u001b[0m\u001b[0;34m\u001b[0m\u001b[0;34m\u001b[0m\u001b[0m\n\u001b[1;32m    683\u001b[0m             \u001b[0;32mfor\u001b[0m \u001b[0mi\u001b[0m\u001b[0;34m,\u001b[0m \u001b[0mopt\u001b[0m \u001b[0;32min\u001b[0m \u001b[0menumerate\u001b[0m\u001b[0;34m(\u001b[0m\u001b[0mself\u001b[0m\u001b[0;34m.\u001b[0m\u001b[0m_optimizers\u001b[0m\u001b[0;34m)\u001b[0m\u001b[0;34m:\u001b[0m\u001b[0;34m\u001b[0m\u001b[0;34m\u001b[0m\u001b[0m\n\u001b[0;32m--> 684\u001b[0;31m                 \u001b[0mopt\u001b[0m\u001b[0;34m.\u001b[0m\u001b[0mstep\u001b[0m\u001b[0;34m(\u001b[0m\u001b[0;34m)\u001b[0m\u001b[0;34m\u001b[0m\u001b[0;34m\u001b[0m\u001b[0m\n\u001b[0m\u001b[1;32m    685\u001b[0m         \u001b[0;32melse\u001b[0m\u001b[0;34m:\u001b[0m\u001b[0;34m\u001b[0m\u001b[0;34m\u001b[0m\u001b[0m\n\u001b[1;32m    686\u001b[0m             \u001b[0;31m# TODO(sven): Not supported for multiple optimizers yet.\u001b[0m\u001b[0;34m\u001b[0m\u001b[0;34m\u001b[0m\u001b[0m\n",
            "\u001b[0;32m/usr/local/lib/python3.10/dist-packages/torch/optim/optimizer.py\u001b[0m in \u001b[0;36mwrapper\u001b[0;34m(*args, **kwargs)\u001b[0m\n\u001b[1;32m    278\u001b[0m                                                f\"but got {result}.\")\n\u001b[1;32m    279\u001b[0m \u001b[0;34m\u001b[0m\u001b[0m\n\u001b[0;32m--> 280\u001b[0;31m                 \u001b[0mout\u001b[0m \u001b[0;34m=\u001b[0m \u001b[0mfunc\u001b[0m\u001b[0;34m(\u001b[0m\u001b[0;34m*\u001b[0m\u001b[0margs\u001b[0m\u001b[0;34m,\u001b[0m \u001b[0;34m**\u001b[0m\u001b[0mkwargs\u001b[0m\u001b[0;34m)\u001b[0m\u001b[0;34m\u001b[0m\u001b[0;34m\u001b[0m\u001b[0m\n\u001b[0m\u001b[1;32m    281\u001b[0m                 \u001b[0mself\u001b[0m\u001b[0;34m.\u001b[0m\u001b[0m_optimizer_step_code\u001b[0m\u001b[0;34m(\u001b[0m\u001b[0;34m)\u001b[0m\u001b[0;34m\u001b[0m\u001b[0;34m\u001b[0m\u001b[0m\n\u001b[1;32m    282\u001b[0m \u001b[0;34m\u001b[0m\u001b[0m\n",
            "\u001b[0;32m/usr/local/lib/python3.10/dist-packages/torch/optim/optimizer.py\u001b[0m in \u001b[0;36m_use_grad\u001b[0;34m(self, *args, **kwargs)\u001b[0m\n\u001b[1;32m     31\u001b[0m         \u001b[0;32mtry\u001b[0m\u001b[0;34m:\u001b[0m\u001b[0;34m\u001b[0m\u001b[0;34m\u001b[0m\u001b[0m\n\u001b[1;32m     32\u001b[0m             \u001b[0mtorch\u001b[0m\u001b[0;34m.\u001b[0m\u001b[0mset_grad_enabled\u001b[0m\u001b[0;34m(\u001b[0m\u001b[0mself\u001b[0m\u001b[0;34m.\u001b[0m\u001b[0mdefaults\u001b[0m\u001b[0;34m[\u001b[0m\u001b[0;34m'differentiable'\u001b[0m\u001b[0;34m]\u001b[0m\u001b[0;34m)\u001b[0m\u001b[0;34m\u001b[0m\u001b[0;34m\u001b[0m\u001b[0m\n\u001b[0;32m---> 33\u001b[0;31m             \u001b[0mret\u001b[0m \u001b[0;34m=\u001b[0m \u001b[0mfunc\u001b[0m\u001b[0;34m(\u001b[0m\u001b[0mself\u001b[0m\u001b[0;34m,\u001b[0m \u001b[0;34m*\u001b[0m\u001b[0margs\u001b[0m\u001b[0;34m,\u001b[0m \u001b[0;34m**\u001b[0m\u001b[0mkwargs\u001b[0m\u001b[0;34m)\u001b[0m\u001b[0;34m\u001b[0m\u001b[0;34m\u001b[0m\u001b[0m\n\u001b[0m\u001b[1;32m     34\u001b[0m         \u001b[0;32mfinally\u001b[0m\u001b[0;34m:\u001b[0m\u001b[0;34m\u001b[0m\u001b[0;34m\u001b[0m\u001b[0m\n\u001b[1;32m     35\u001b[0m             \u001b[0mtorch\u001b[0m\u001b[0;34m.\u001b[0m\u001b[0mset_grad_enabled\u001b[0m\u001b[0;34m(\u001b[0m\u001b[0mprev_grad\u001b[0m\u001b[0;34m)\u001b[0m\u001b[0;34m\u001b[0m\u001b[0;34m\u001b[0m\u001b[0m\n",
            "\u001b[0;32m/usr/local/lib/python3.10/dist-packages/torch/optim/adam.py\u001b[0m in \u001b[0;36mstep\u001b[0;34m(self, closure)\u001b[0m\n\u001b[1;32m    139\u001b[0m                 state_steps)\n\u001b[1;32m    140\u001b[0m \u001b[0;34m\u001b[0m\u001b[0m\n\u001b[0;32m--> 141\u001b[0;31m             adam(\n\u001b[0m\u001b[1;32m    142\u001b[0m                 \u001b[0mparams_with_grad\u001b[0m\u001b[0;34m,\u001b[0m\u001b[0;34m\u001b[0m\u001b[0;34m\u001b[0m\u001b[0m\n\u001b[1;32m    143\u001b[0m                 \u001b[0mgrads\u001b[0m\u001b[0;34m,\u001b[0m\u001b[0;34m\u001b[0m\u001b[0;34m\u001b[0m\u001b[0m\n",
            "\u001b[0;32m/usr/local/lib/python3.10/dist-packages/torch/optim/adam.py\u001b[0m in \u001b[0;36madam\u001b[0;34m(params, grads, exp_avgs, exp_avg_sqs, max_exp_avg_sqs, state_steps, foreach, capturable, differentiable, fused, grad_scale, found_inf, amsgrad, beta1, beta2, lr, weight_decay, eps, maximize)\u001b[0m\n\u001b[1;32m    279\u001b[0m         \u001b[0mfunc\u001b[0m \u001b[0;34m=\u001b[0m \u001b[0m_single_tensor_adam\u001b[0m\u001b[0;34m\u001b[0m\u001b[0;34m\u001b[0m\u001b[0m\n\u001b[1;32m    280\u001b[0m \u001b[0;34m\u001b[0m\u001b[0m\n\u001b[0;32m--> 281\u001b[0;31m     func(params,\n\u001b[0m\u001b[1;32m    282\u001b[0m          \u001b[0mgrads\u001b[0m\u001b[0;34m,\u001b[0m\u001b[0;34m\u001b[0m\u001b[0;34m\u001b[0m\u001b[0m\n\u001b[1;32m    283\u001b[0m          \u001b[0mexp_avgs\u001b[0m\u001b[0;34m,\u001b[0m\u001b[0;34m\u001b[0m\u001b[0;34m\u001b[0m\u001b[0m\n",
            "\u001b[0;32m/usr/local/lib/python3.10/dist-packages/torch/optim/adam.py\u001b[0m in \u001b[0;36m_single_tensor_adam\u001b[0;34m(params, grads, exp_avgs, exp_avg_sqs, max_exp_avg_sqs, state_steps, grad_scale, found_inf, amsgrad, beta1, beta2, lr, weight_decay, eps, maximize, capturable, differentiable)\u001b[0m\n\u001b[1;32m    391\u001b[0m                 \u001b[0mdenom\u001b[0m \u001b[0;34m=\u001b[0m \u001b[0;34m(\u001b[0m\u001b[0mexp_avg_sq\u001b[0m\u001b[0;34m.\u001b[0m\u001b[0msqrt\u001b[0m\u001b[0;34m(\u001b[0m\u001b[0;34m)\u001b[0m \u001b[0;34m/\u001b[0m \u001b[0mbias_correction2_sqrt\u001b[0m\u001b[0;34m)\u001b[0m\u001b[0;34m.\u001b[0m\u001b[0madd_\u001b[0m\u001b[0;34m(\u001b[0m\u001b[0meps\u001b[0m\u001b[0;34m)\u001b[0m\u001b[0;34m\u001b[0m\u001b[0;34m\u001b[0m\u001b[0m\n\u001b[1;32m    392\u001b[0m \u001b[0;34m\u001b[0m\u001b[0m\n\u001b[0;32m--> 393\u001b[0;31m             \u001b[0mparam\u001b[0m\u001b[0;34m.\u001b[0m\u001b[0maddcdiv_\u001b[0m\u001b[0;34m(\u001b[0m\u001b[0mexp_avg\u001b[0m\u001b[0;34m,\u001b[0m \u001b[0mdenom\u001b[0m\u001b[0;34m,\u001b[0m \u001b[0mvalue\u001b[0m\u001b[0;34m=\u001b[0m\u001b[0;34m-\u001b[0m\u001b[0mstep_size\u001b[0m\u001b[0;34m)\u001b[0m\u001b[0;34m\u001b[0m\u001b[0;34m\u001b[0m\u001b[0m\n\u001b[0m\u001b[1;32m    394\u001b[0m \u001b[0;34m\u001b[0m\u001b[0m\n\u001b[1;32m    395\u001b[0m \u001b[0;34m\u001b[0m\u001b[0m\n",
            "\u001b[0;31mKeyboardInterrupt\u001b[0m: "
          ]
        }
      ]
    },
    {
      "cell_type": "code",
      "source": [
        "import matplotlib.pyplot as plt\n",
        "\n",
        "# Create a line chart\n",
        "plt.plot(episode_reward_mean_array)\n",
        "\n",
        "# Add labels and title\n",
        "plt.xlabel('X-axis label')\n",
        "plt.ylabel('Y-axis label')\n",
        "plt.title('Line Chart of List of Values')\n",
        "\n",
        "# Display the chart\n",
        "plt.show()\n"
      ],
      "metadata": {
        "colab": {
          "base_uri": "https://localhost:8080/",
          "height": 465
        },
        "id": "tZx3J6Km8ElY",
        "outputId": "36b6c63c-7547-4da3-eb96-d3f47005a7fc"
      },
      "execution_count": null,
      "outputs": [
        {
          "output_type": "display_data",
          "data": {
            "text/plain": [
              "<Figure size 640x480 with 1 Axes>"
            ],
            "image/png": "[encoded data removed]"
          },
          "metadata": {}
        }
      ]
    },
    {
      "cell_type": "code",
      "source": [
        "episode_reward = 0\n",
        "terminated = truncated = False\n",
        "\n",
        "env = DeliveryEnv(n_stops=5, max_box=10, method=\"distance\")\n",
        "\n",
        "obs, info = env.reset()\n",
        "print(obs)\n",
        "frames = []  # Store frames for creating a video\n",
        "stops = []\n",
        "\n",
        "# Restore the trained model from the saved checkpoint\n",
        "restored_algo = config.build()\n",
        "restored_algo.restore(checkpoint_dir)\n",
        "\n",
        "#while not terminated and not truncated:\n",
        "for _ in range(4  ): # Longer episode than the one that gives a reward of 100\n",
        "    action = restored_algo.compute_single_action(obs)\n",
        "    obs, reward, terminated, truncated, info = env.step(action)\n",
        "    episode_reward = episode_reward + reward\n",
        "    print('action taken: ' + str(action))\n",
        "    print(f\"Episode reward: {episode_reward}\")\n",
        "    print(env.delivery_env.stops)\n",
        "    if terminated or truncated: \n",
        "      print('terminated: ' + str(terminated))\n",
        "      print('truncated: ' + str(truncated))\n",
        "\n",
        "frame = env.render()\n",
        "plt.imshow(frame, cmap='gray')\n",
        "plt.show()\n",
        "string_stops = ','.join(map(str, stops))\n",
        "print('There are the stops used by the algorithm' + string_stops)\n",
        "env.close() \n",
        "print(f\"Episode reward: {episode_reward}\")"
      ],
      "metadata": {
        "colab": {
          "base_uri": "https://localhost:8080/",
          "height": 933
        },
        "id": "-8BdSQhpwglS",
        "outputId": "b7c3c4a6-9943-45bb-95a2-d51022ee000e"
      },
      "execution_count": null,
      "outputs": [
        {
          "output_type": "stream",
          "name": "stderr",
          "text": [
            "2023-04-30 09:16:27,841\tWARNING util.py:67 -- Install gputil for GPU system monitoring.\n",
            "2023-04-30 09:16:27,883\tINFO trainable.py:913 -- Restored on 172.28.0.12 from checkpoint: /root/ray_results/DQN_DeliveryEnv-v0_2023-04-30_09-03-58qylvqbfl/checkpoint_000016\n",
            "2023-04-30 09:16:27,886\tINFO trainable.py:922 -- Current state after restoring: {'_iteration': 16, '_timesteps_total': None, '_time_total': 601.4305005073547, '_episodes_total': 4789}\n"
          ]
        },
        {
          "output_type": "stream",
          "name": "stdout",
          "text": [
            "number of stops5\n",
            "[0.         0.         0.         1.         0.         0.45687049\n",
            " 0.32353394 0.69936862 0.26739739 0.35493282 0.03684123 0.83502272\n",
            " 0.4569015  0.29779192 0.06277564 0.         0.         0.\n",
            " 1.         0.        ]\n",
            "number of stops5\n",
            "input size is \n",
            "20\n",
            "input size is \n",
            "20\n",
            "action taken: 4\n",
            "Episode reward: -3.036218795461441\n",
            "[3, 4]\n",
            "action taken: 2\n",
            "Episode reward: -9.675739727862426\n",
            "[3, 4, 2]\n",
            "action taken: 1\n",
            "Episode reward: -16.500004916448788\n",
            "[3, 4, 2, 1]\n",
            "action taken: 0\n",
            "Episode reward: -26.150380519190705\n",
            "[3, 4, 2, 1, 0]\n",
            "terminated: True\n",
            "truncated: False\n"
          ]
        },
        {
          "output_type": "display_data",
          "data": {
            "text/plain": [
              "<Figure size 640x480 with 1 Axes>"
            ],
            "image/png": "[encoded data removed]"
          },
          "metadata": {}
        },
        {
          "output_type": "stream",
          "name": "stdout",
          "text": [
            "There are the stops used by the algorithm\n",
            "Episode reward: -26.150380519190705\n"
          ]
        }
      ]
    },
    {
      "cell_type": "markdown",
      "source": [
        "### Train custom model tunner"
      ],
      "metadata": {
        "id": "K1YTXND5w6PC"
      }
    },
    {
      "cell_type": "code",
      "source": [
        "# from ray.rllib.algorithms.dqn.dqn import DQNConfig\n",
        "# from ray.tune.registry import register_env\n",
        "# from ray import tune\n",
        "# from ray import air\n",
        "# from ray import tune\n",
        "# import os\n",
        "\n",
        "\n",
        "# # Register the custom environment\n",
        "# def env_creator(env_config):\n",
        "#     return DeliveryEnv(n_stops=env_config['n_stops'])\n",
        "\n",
        "# register_env(\"DeliveryEnv-v0\", env_creator)\n",
        "\n",
        "# config = DQNConfig()\n",
        "# config.training(  \n",
        "# lr=tune.grid_search([0.001]))\n",
        "\n",
        "# config[\"lr\"] = tune.grid_search([0.001])\n",
        "\n",
        "# config = config.environment(env='DeliveryEnv-v0', disable_env_checking=True, \n",
        "#                            env_config={'n_stops': 5})\n",
        "# config = config.framework(\"torch\").training(model={\n",
        "#    \"custom_model\": \"custom_dqn_model\"\n",
        "# }\n",
        "# )"
      ],
      "metadata": {
        "id": "4lYwoCTgFohk",
        "colab": {
          "base_uri": "https://localhost:8080/"
        },
        "outputId": "3c575f09-69d7-4615-e1d7-03cf685e4d75"
      },
      "execution_count": null,
      "outputs": [
        {
          "output_type": "stream",
          "name": "stderr",
          "text": [
            "/usr/local/lib/python3.9/dist-packages/ipykernel/ipkernel.py:283: DeprecationWarning: `should_run_async` will not call `transform_cell` automatically in the future. Please pass the result to `transformed_cell` argument and any exception that happen during thetransform in `preprocessing_exc_tuple` in IPython 7.17 and above.\n",
            "  and should_run_async(code)\n"
          ]
        }
      ]
    },
    {
      "cell_type": "code",
      "source": [
        "# # Use to_dict() to get the old-style python config dict\n",
        "# # when running with tune.\n",
        "# tuner = tune.Tuner(  # doctest: +SKIP\n",
        "#      \"DQN\",\n",
        "#      run_config=air.RunConfig(stop= {\"training_iteration\": 5},\n",
        "#                               local_dir=\"./results\"),\n",
        "#      param_space=config.to_dict(),\n",
        "# )\n",
        "\n",
        "# results = tuner.fit()"
      ],
      "metadata": {
        "id": "KCO5tvtl8Vjd"
      },
      "execution_count": null,
      "outputs": []
    },
    {
      "cell_type": "code",
      "source": [
        "# env = DeliveryEnv(n_stops=5, max_box=10, method=\"distance\")\n",
        "\n",
        "# for i in [2,3]:\n",
        "#     one_hot_state, reward, done, done, _ = env.step(i)\n",
        "#     print(reward)\n",
        "\n",
        "# img_numpy = env.render()\n",
        "# img_numpy.shape"
      ],
      "metadata": {
        "id": "TxkQHgl-F0qD"
      },
      "execution_count": null,
      "outputs": []
    },
    {
      "cell_type": "markdown",
      "source": [
        "In this environment the longest the distance traveled the highest the reward given. Therefore the objetive of the problem should be to reduce the reward"
      ],
      "metadata": {
        "id": "qAWsYZP8ORQL"
      }
    },
    {
      "cell_type": "code",
      "source": [
        "# import matplotlib.pyplot as plt\n",
        "# import numpy as np\n",
        "\n",
        "\n",
        "# plt.imshow(img_numpy, cmap='gray')\n",
        "# plt.show()\n"
      ],
      "metadata": {
        "id": "OwEGTwcMHJYv"
      },
      "execution_count": null,
      "outputs": []
    },
    {
      "cell_type": "code",
      "source": [
        "# %load_ext tensorboard\n",
        "# %tensorboard --logdir /content/results/DQN --port 8081"
      ],
      "metadata": {
        "id": "W614jnu7IM05"
      },
      "execution_count": null,
      "outputs": []
    },
    {
      "cell_type": "markdown",
      "source": [
        "## Inference"
      ],
      "metadata": {
        "id": "HG3kMuWZKPYI"
      }
    },
    {
      "cell_type": "code",
      "source": [
        "# import os\n",
        "# from ray.rllib.algorithms.algorithm import Algorithm\n",
        "\n",
        "# # Get the best checkpoint\n",
        "# best_result = results.get_best_result(metric='episode_reward_max')\n",
        "# print(best_result.checkpoint)\n",
        "\n",
        "# # import a model given the path of the checkpoint\n",
        "# loaded_dqn = Algorithm.from_checkpoint(best_result.checkpoint)\n",
        "# #loaded_dqn = Algorithm.from_checkpoint('/content/results/DQN/DQN_DeliveryEnv-v0_16a2a_00000_0_lr=0.0010_2023-04-23_12-48-04/checkpoint_000016')\n",
        "# loaded_policy = loaded_dqn.get_policy()"
      ],
      "metadata": {
        "id": "zvie6rk2KMJW"
      },
      "execution_count": null,
      "outputs": []
    },
    {
      "cell_type": "code",
      "source": [
        "# episode_reward = 0\n",
        "# terminated = truncated = False\n",
        "\n",
        "# env = DeliveryEnv(n_stops=5, max_box=10, method=\"distance\")\n",
        "\n",
        "# obs, info = env.reset()\n",
        "# frames = []  # Store frames for creating a video\n",
        "# stops = []\n",
        "# print(env.delivery_env.first_stop)\n",
        "# print(env.delivery_env.stops)\n",
        "# #while not terminated and not truncated:\n",
        "# for _ in range(4): # Longer episode than the one that gives a reward of 100\n",
        "#     action, _, _ = loaded_policy.compute_single_action(obs)\n",
        "#     obs, reward, terminated, truncated, info = env.step(action)\n",
        "#     episode_reward = episode_reward + reward\n",
        "#     print('action taken: ' + str(action))\n",
        "#     print(f\"Episode reward: {episode_reward}\")\n",
        "#     print(env.delivery_env.stops)\n",
        "#     if terminated or truncated: \n",
        "#       print('terminated: ' + str(terminated))\n",
        "#       print('truncated: ' + str(truncated))\n",
        "\n",
        "# # frame = env.render()\n",
        "# # plt.imshow(frame, cmap='gray')\n",
        "# # plt.show()\n",
        "# string_stops = ','.join(map(str, stops))\n",
        "# print('There are the stops used by the algorithm' + string_stops)\n",
        "# env.close()\n",
        "# print(f\"Episode reward: {episode_reward}\")"
      ],
      "metadata": {
        "id": "0z8Gu_zQKROW"
      },
      "execution_count": null,
      "outputs": []
    },
    {
      "cell_type": "code",
      "source": [
        "# env.observation_space"
      ],
      "metadata": {
        "id": "H1oXgubfMAjN"
      },
      "execution_count": null,
      "outputs": []
    },
    {
      "cell_type": "markdown",
      "source": [
        "## Apply Genetic Algorithm"
      ],
      "metadata": {
        "id": "xYw34a_VFo4I"
      }
    },
    {
      "cell_type": "code",
      "source": [],
      "metadata": {
        "id": "B_JC_qSbFuxl"
      },
      "execution_count": null,
      "outputs": []
    },
    {
      "cell_type": "markdown",
      "source": [
        "## Increase Environment"
      ],
      "metadata": {
        "id": "AbMJJFyIFvSl"
      }
    }
  ]
}